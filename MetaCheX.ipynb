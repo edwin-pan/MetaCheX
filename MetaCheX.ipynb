{
 "cells": [
  {
   "cell_type": "markdown",
   "id": "062cf5ef",
   "metadata": {},
   "source": [
    "# MetaCheX"
   ]
  },
  {
   "cell_type": "markdown",
   "id": "31216ee6",
   "metadata": {},
   "source": [
    "## Step 1: Data Pre-processing"
   ]
  },
  {
   "cell_type": "code",
   "execution_count": 5,
   "id": "3640ee59",
   "metadata": {},
   "outputs": [],
   "source": [
    "import pandas as pd\n",
    "import numpy as np\n",
    "import matplotlib.pyplot as plt\n",
    "import random\n",
    "import os\n",
    "import cv2\n",
    "from tensorflow.keras.preprocessing.image import ImageDataGenerator, array_to_img, img_to_array, load_img\n",
    "import tensorflow as tf\n",
    "from glob import glob\n",
    "from keras.utils.np_utils import to_categorical   \n",
    "from imblearn.over_sampling import RandomOverSampler\n",
    "from sklearn.metrics import roc_curve\n",
    "\n",
    "PATH_TO_DATA_FOLDER = './data'\n",
    "NIH_IMAGES = 'nih/images'\n",
    "NIH_METADATA_PATH = 'nih/Data_Entry_2017.csv'\n",
    "COVID_19_RADIOGRAPHY_IMAGES = 'COVID-19_Radiography_Dataset/images' ## note labels are in the filenames\n",
    "COVID_CHESTXRAY_IMAGES = 'covid-chestxray-dataset/images'\n",
    "COVID_CHESTXRAY_METADATA_PATH = 'covid-chestxray-dataset/metadata.csv'\n",
    "\n",
    "IMAGE_SIZE = 224"
   ]
  },
  {
   "cell_type": "markdown",
   "id": "92d96e46",
   "metadata": {},
   "source": [
    "If labels.csv exists, read from it.\n",
    "\n",
    "Otherwise, extract filenames and labels for:\n",
    "- ChestX-ray14 (NIH) dataset\n",
    "- COVID-19 Radiography Dataset\n",
    "- covid-chestxray-dataset\n",
    "\n",
    "and put in labels.csv"
   ]
  },
  {
   "cell_type": "code",
   "execution_count": 2,
   "id": "901c76b7",
   "metadata": {},
   "outputs": [
    {
     "name": "stdout",
     "output_type": "stream",
     "text": [
      "                           image_path                          label  \\\n",
      "0  ./data/nih/images/00000001_000.png               ['Cardiomegaly']   \n",
      "1  ./data/nih/images/00000001_001.png  ['Cardiomegaly', 'Emphysema']   \n",
      "2  ./data/nih/images/00000001_002.png   ['Cardiomegaly', 'Effusion']   \n",
      "3  ./data/nih/images/00000002_000.png                 ['No Finding']   \n",
      "4  ./data/nih/images/00000003_000.png                     ['Hernia']   \n",
      "5  ./data/nih/images/00000003_001.png                     ['Hernia']   \n",
      "6  ./data/nih/images/00000003_002.png                     ['Hernia']   \n",
      "7  ./data/nih/images/00000003_003.png     ['Hernia', 'Infiltration']   \n",
      "8  ./data/nih/images/00000003_004.png                     ['Hernia']   \n",
      "9  ./data/nih/images/00000003_005.png                     ['Hernia']   \n",
      "\n",
      "   label_num  \n",
      "0        416  \n",
      "1        390  \n",
      "2        388  \n",
      "3        827  \n",
      "4        777  \n",
      "5        777  \n",
      "6        777  \n",
      "7        772  \n",
      "8        777  \n",
      "9        777  \n"
     ]
    }
   ],
   "source": [
    "labels_path = os.path.join(PATH_TO_DATA_FOLDER, 'labels.csv')\n",
    "if os.path.isfile(labels_path): ## path exists\n",
    "    df = pd.read_csv(labels_path)\n",
    "    df['label_num'] = df.groupby(['label']).ngroup()\n",
    "    df['label'] = df['label'].apply(lambda x: x[1:-1].split(', ')) ## convert to list of str\n",
    "else:\n",
    "    df = pd.DataFrame(columns=['image_path', 'label'])\n",
    "\n",
    "    ## NIH\n",
    "    full_path = os.path.join(PATH_TO_DATA_FOLDER, NIH_METADATA_PATH)\n",
    "    df_nih = pd.read_csv(full_path)[['Image Index', 'Finding Labels']]\n",
    "    df_nih.rename(columns={'Image Index': 'image_path', 'Finding Labels': 'label'}, inplace=True)\n",
    "    df_nih['label'] = df_nih['label'].str.split('|')\n",
    "    df_nih['image_path'] = PATH_TO_DATA_FOLDER + '/' + NIH_IMAGES + '/' + df_nih['image_path']\n",
    "    df = df.append(df_nih)\n",
    "\n",
    "    ## COVID_CHESTXRAY\n",
    "    full_path = os.path.join(PATH_TO_DATA_FOLDER, COVID_CHESTXRAY_METADATA_PATH)\n",
    "    df_cc = pd.read_csv(full_path)[['filename', 'finding']]\n",
    "    df_cc.rename(columns={'filename': 'image_path', 'finding': 'label'}, inplace=True)\n",
    "    df_cc = df_cc.drop(df_cc[(df_cc['label'] == 'todo') | (df_cc['label'] == 'Unknown')].index).reset_index(drop=True)\n",
    "    df_cc['label'] = df_cc['label'].str.split('/')\n",
    "    ## Remove the label after 'Pneumonia' that specifies type of pneumonia if given\n",
    "    for i in range(df_cc.shape[0]):\n",
    "        label = df_cc.at[i, 'label']\n",
    "        if 'Pneumonia' in label and len(label) > 1:\n",
    "            p_idx = label.index('Pneumonia')\n",
    "            label.pop(p_idx + 1)\n",
    "            #sort the labels to be in alphabetical order\n",
    "            df_cc.at[i, 'label'] = sorted(label)\n",
    "\n",
    "    df_cc['image_path'] = PATH_TO_DATA_FOLDER + '/' + COVID_CHESTXRAY_IMAGES + '/' + df_cc['image_path']\n",
    "    df = df.append(df_cc)\n",
    "\n",
    "    ## COVID-19 Radiography\n",
    "    full_path = os.path.join(PATH_TO_DATA_FOLDER, COVID_19_RADIOGRAPHY_IMAGES)\n",
    "    df_cr = pd.DataFrame(columns=['image_path', 'label'])\n",
    "    image_lst = sorted(list(glob(f\"{full_path}/*\"))) ## gets list of all image filepaths\n",
    "    label_arr = np.array([f[f.rindex('/') + 1:f.rindex('-')] for f in image_lst])\n",
    "    label_arr = np.where(label_arr == 'COVID', 'COVID-19', label_arr) ## replace COVID with COVID-19 for consistency\n",
    "    label_arr = np.where(label_arr == 'Viral Pneumonia', 'Pneumonia', label_arr)\n",
    "    label_arr = np.where(label_arr == 'Normal', 'No Finding', label_arr) ## replace 'Normal' with 'No Finding'\n",
    "    df_cr['image_path'] = image_lst\n",
    "    df_cr['label'] = label_arr\n",
    "    df_cr['label'] = df_cr['label'].str.split(pat='.') ## makes each label a list (random sep so that no split on space)\n",
    "    df = df.append(df_cr)\n",
    "\n",
    "    df = df.reset_index(drop=True)\n",
    "    df.to_csv(labels_path, index=False)\n",
    "    \n",
    "    ## Reads in the new csv and adds label_num col (requires label to be str rather than list of str)\n",
    "    df = pd.read_csv(labels_path)\n",
    "    df['label_num'] = df.groupby(['label']).ngroup()\n",
    "    df['label'] = df['label'].apply(lambda x: x[1:-1].split(', ')) ## convert to list of str\n",
    "    \n",
    "print(df.head(10))"
   ]
  },
  {
   "cell_type": "markdown",
   "id": "1f54466b",
   "metadata": {},
   "source": [
    "Get stats on the data: \n",
    "- Number of images with each label (individual)\n",
    "- Number of unique labels (individual)\n",
    "- Number of labels total (including combos)"
   ]
  },
  {
   "cell_type": "code",
   "execution_count": 3,
   "id": "e9b53eaa",
   "metadata": {},
   "outputs": [
    {
     "name": "stdout",
     "output_type": "stream",
     "text": [
      "Number of total images:  164298\n",
      "Number of total individual labels:  35\n",
      "Number of total label combos (includes individual labels):  856\n",
      "****************************\n",
      "Number of images with each individual label (Top 20)\n",
      "                      count\n",
      "'No Finding'          70575\n",
      "'Infiltration'        19894\n",
      "'Effusion'            13317\n",
      "'Atelectasis'         11559\n",
      "'Nodule'               6331\n",
      "'Lung_Opacity'         6012\n",
      "'Mass'                 5782\n",
      "'Pneumothorax'         5302\n",
      "'Consolidation'        4667\n",
      "'COVID-19'             4200\n",
      "'Pneumonia'            3602\n",
      "'Pleural_Thickening'   3385\n",
      "'Cardiomegaly'         2776\n",
      "'Emphysema'            2516\n",
      "'Edema'                2303\n",
      "'Fibrosis'             1686\n",
      "'Hernia'                227\n",
      "'Pneumocystis'           30\n",
      "'Streptococcus'          22\n",
      "'Tuberculosis'           18\n",
      "\n",
      "\n",
      "Number of images with each combo label (Top 20)\n",
      "                                             count\n",
      "('No Finding',)                              70575\n",
      "('Infiltration',)                             9547\n",
      "('Lung_Opacity',)                             6012\n",
      "('Atelectasis',)                              4215\n",
      "('Effusion',)                                 3955\n",
      "('COVID-19',)                                 3616\n",
      "('Nodule',)                                   2705\n",
      "('Pneumothorax',)                             2194\n",
      "('Mass',)                                     2139\n",
      "('Pneumonia',)                                1766\n",
      "('Effusion', 'Infiltration')                  1603\n",
      "('Atelectasis', 'Infiltration')               1350\n",
      "('Consolidation',)                            1310\n",
      "('Atelectasis', 'Effusion')                   1165\n",
      "('Pleural_Thickening',)                       1126\n",
      "('Cardiomegaly',)                             1093\n",
      "('Emphysema',)                                 892\n",
      "('Infiltration', 'Nodule')                     829\n",
      "('Atelectasis', 'Effusion', 'Infiltration')    737\n",
      "('Fibrosis',)                                  727\n",
      "\n",
      "\n",
      "  count interval  number of labels\n",
      "0          <= 10               642\n",
      "1      (10, 100]               152\n",
      "2      (100, 1k]                46\n",
      "3      (1k, 10k]                15\n",
      "4          > 10k                 1\n"
     ]
    }
   ],
   "source": [
    "unique_labels_dict = {} ## keys are str\n",
    "unique_combos_dict = {} ## keys are tuples of str\n",
    "for i in range(df.shape[0]):\n",
    "    label = tuple(df.at[i, 'label'])\n",
    "    for l in label:\n",
    "        if l not in unique_labels_dict:\n",
    "            unique_labels_dict[l] = 0\n",
    "        unique_labels_dict[l] += 1\n",
    "    \n",
    "    if label not in unique_combos_dict:\n",
    "        unique_combos_dict[label] = 0\n",
    "    unique_combos_dict[label] += 1\n",
    "\n",
    "df_label_nums = pd.DataFrame.from_dict(unique_labels_dict, orient='index', columns=['count']).sort_values(by=['count'], ascending=False)\n",
    "df_combo_nums = pd.DataFrame.from_dict(unique_combos_dict, orient='index', columns=['count']).sort_values(by=['count'], ascending=False)\n",
    "print(\"Number of total images: \", df_label_nums['count'].sum())\n",
    "print(\"Number of total individual labels: \", df_label_nums.shape[0])\n",
    "print(\"Number of total label combos (includes individual labels): \", df_combo_nums.shape[0])\n",
    "print(\"****************************\")\n",
    "print(\"Number of images with each individual label (Top 20)\")\n",
    "print(df_label_nums.head(20))\n",
    "print(\"\\n\")\n",
    "print(\"Number of images with each combo label (Top 20)\")\n",
    "print(df_combo_nums.head(20))\n",
    "print(\"\\n\")\n",
    "\n",
    "## Get number of labels with number of images in each range\n",
    "## > 10k\n",
    "## 1k - 10k\n",
    "## 100 - 1k\n",
    "## 10 - 100\n",
    "## < 10\n",
    "bins =  np.array([0, 10, 100, 1000, 10000, 100000])\n",
    "df_combo_counts = pd.DataFrame(columns=['count interval', 'number of labels'])\n",
    "df_combo_counts['count interval'] = [\"<= 10\", \"(10, 100]\", \"(100, 1k]\", \"(1k, 10k]\", \"> 10k\"]\n",
    "\n",
    "df_combo_counts['number of labels'] = [df_combo_nums[df_combo_nums['count'] <= 10].size,\n",
    "                               df_combo_nums[(df_combo_nums['count'] > 10) & (df_combo_nums['count'] <= 1e2)].size,\n",
    "                               df_combo_nums[(df_combo_nums['count'] > 1e2) & (df_combo_nums['count'] <= 1e3)].size,\n",
    "                               df_combo_nums[(df_combo_nums['count'] > 1e3) & (df_combo_nums['count'] <= 1e4)].size,\n",
    "                               df_combo_nums[df_combo_nums['count'] > 1e4].size\n",
    "                              ]\n",
    "    \n",
    "print(df_combo_counts.head())\n"
   ]
  },
  {
   "cell_type": "markdown",
   "id": "2fc894ec",
   "metadata": {},
   "source": [
    "### Convert images to fixed-size arrays"
   ]
  },
  {
   "cell_type": "code",
   "execution_count": null,
   "id": "783ef1ef",
   "metadata": {},
   "outputs": [],
   "source": [
    "def load_data(df):\n",
    "    \"\"\"\n",
    "    df: DataFrame of image paths, label (list of str) and label num\n",
    "    \"\"\"\n",
    "    image_arrays = []\n",
    "    image_labels = df['label_num'].to_numpy()\n",
    "    for index, row in df.iterrows():\n",
    "        image = load_img(row['image_path'])\n",
    "        image_arr = img_to_array(image)\n",
    "        image_arr_resized = cv2.resize(image_arr, (IMAGE_SIZE, IMAGE_SIZE), interpolation=cv2.INTER_LANCZOS4)\n",
    "        image_arr_norm = image_arr_resized / 255 ## pixels in [0, 255] -- normalize to [0, 1]\n",
    "        image_arrays.append(image_arr_norm)\n",
    "\n",
    "    all_images = np.stack(images)\n",
    "    all_labels = to_categorical(image_labels, num_classes=image_labels.max() + 1) # one-hot\n",
    "    return all_images, all_labels\n",
    "\n",
    "## Preview first image and label\n",
    "all_images, all_labels = load_data(df)\n",
    "plt.imshow(all_images[0])\n",
    "plt.xlabel(all_labels[0])"
   ]
  },
  {
   "cell_type": "markdown",
   "id": "130dfe67",
   "metadata": {},
   "source": [
    "Save the images and labels"
   ]
  },
  {
   "cell_type": "code",
   "execution_count": null,
   "id": "9870c5ad",
   "metadata": {},
   "outputs": [],
   "source": [
    "## Comment this out after running for the first time\n",
    "saved_data_path='saved_data' \n",
    "with open(saved_data_path, 'wb') as f:\n",
    "    np.save(f, all_images)\n",
    "    np.save(f, all_labels)"
   ]
  },
  {
   "cell_type": "markdown",
   "id": "bfb9fc91",
   "metadata": {},
   "source": [
    "Load images and labels"
   ]
  },
  {
   "cell_type": "code",
   "execution_count": null,
   "id": "4b1fad19",
   "metadata": {},
   "outputs": [],
   "source": [
    "saved_data_path='saved_data'\n",
    "with open(saved_data_path, 'rb') as f:\n",
    "    all_images = np.load(f)\n",
    "    all_labels = np.load(f)"
   ]
  },
  {
   "cell_type": "markdown",
   "id": "1f228083",
   "metadata": {},
   "source": [
    "## Step 2: Pre-Trained CheXNet"
   ]
  },
  {
   "cell_type": "code",
   "execution_count": 11,
   "id": "8ae00564",
   "metadata": {},
   "outputs": [
    {
     "name": "stdout",
     "output_type": "stream",
     "text": [
      "WARNING:tensorflow:No training configuration found in save file, so the model was *not* compiled. Compile it manually.\n"
     ]
    },
    {
     "ename": "TypeError",
     "evalue": "The added layer must be an instance of class Layer. Found: [<keras.engine.input_layer.InputLayer object at 0x7f2036343550>, <keras.layers.convolutional.ZeroPadding2D object at 0x7f2036343f50>, <keras.layers.convolutional.Conv2D object at 0x7f2036341890>, <keras.layers.normalization.batch_normalization.BatchNormalization object at 0x7f2036350150>, <keras.layers.core.Activation object at 0x7f2036365110>, <keras.layers.convolutional.ZeroPadding2D object at 0x7f2036365650>, <keras.layers.pooling.MaxPooling2D object at 0x7f2036365f50>, <keras.layers.normalization.batch_normalization.BatchNormalization object at 0x7f2036347dd0>, <keras.layers.core.Activation object at 0x7f2036356c10>, <keras.layers.convolutional.Conv2D object at 0x7f2014da1290>, <keras.layers.normalization.batch_normalization.BatchNormalization object at 0x7f2014d9da10>, <keras.layers.core.Activation object at 0x7f2014d9b850>, <keras.layers.convolutional.Conv2D object at 0x7f2014d9be90>, <keras.layers.merge.Concatenate object at 0x7f2014d932d0>, <keras.layers.normalization.batch_normalization.BatchNormalization object at 0x7f2014d93e50>, <keras.layers.core.Activation object at 0x7f2014d80c50>, <keras.layers.convolutional.Conv2D object at 0x7f2014d7f2d0>, <keras.layers.normalization.batch_normalization.BatchNormalization object at 0x7f2014d885d0>, <keras.layers.core.Activation object at 0x7f2014d7a850>, <keras.layers.convolutional.Conv2D object at 0x7f2014d7ae90>, <keras.layers.merge.Concatenate object at 0x7f2014d77290>, <keras.layers.normalization.batch_normalization.BatchNormalization object at 0x7f2014d77e10>, <keras.layers.core.Activation object at 0x7f2014d73c50>, <keras.layers.convolutional.Conv2D object at 0x7f2014d702d0>, <keras.layers.normalization.batch_normalization.BatchNormalization object at 0x7f2014d62050>, <keras.layers.core.Activation object at 0x7f2014d6d290>, <keras.layers.convolutional.Conv2D object at 0x7f2014d6d610>, <keras.layers.merge.Concatenate object at 0x7f2014a1fd50>, <keras.layers.normalization.batch_normalization.BatchNormalization object at 0x7f2014a1f1d0>, <keras.layers.core.Activation object at 0x7f2014a193d0>, <keras.layers.convolutional.Conv2D object at 0x7f2014a132d0>, <keras.layers.normalization.batch_normalization.BatchNormalization object at 0x7f2014a0fa50>, <keras.layers.core.Activation object at 0x7f2014a0d790>, <keras.layers.convolutional.Conv2D object at 0x7f2014a0d150>, <keras.layers.merge.Concatenate object at 0x7f20149fa2d0>, <keras.layers.normalization.batch_normalization.BatchNormalization object at 0x7f20149fae50>, <keras.layers.core.Activation object at 0x7f2014a00c90>, <keras.layers.convolutional.Conv2D object at 0x7f20149f8310>, <keras.layers.normalization.batch_normalization.BatchNormalization object at 0x7f20149eba90>, <keras.layers.core.Activation object at 0x7f20149f1890>, <keras.layers.convolutional.Conv2D object at 0x7f20149f1ed0>, <keras.layers.merge.Concatenate object at 0x7f20149e82d0>, <keras.layers.normalization.batch_normalization.BatchNormalization object at 0x7f20149e8e50>, <keras.layers.core.Activation object at 0x7f20149e4c90>, <keras.layers.convolutional.Conv2D object at 0x7f2014aa4310>, <keras.layers.normalization.batch_normalization.BatchNormalization object at 0x7f2014aa8a90>, <keras.layers.core.Activation object at 0x7f2014aaca10>, <keras.layers.convolutional.Conv2D object at 0x7f2014aacf10>, <keras.layers.merge.Concatenate object at 0x7f2014ab3310>, <keras.layers.normalization.batch_normalization.BatchNormalization object at 0x7f2014ab3f10>, <keras.layers.core.Activation object at 0x7f2014ab7f50>, <keras.layers.convolutional.Conv2D object at 0x7f2014abe550>, <keras.layers.pooling.AveragePooling2D object at 0x7f2014ac1950>, <keras.layers.normalization.batch_normalization.BatchNormalization object at 0x7f2014ac4810>, <keras.layers.core.Activation object at 0x7f2014aca650>, <keras.layers.convolutional.Conv2D object at 0x7f2014acac90>, <keras.layers.normalization.batch_normalization.BatchNormalization object at 0x7f2014ad1450>, <keras.layers.core.Activation object at 0x7f2014ad6290>, <keras.layers.convolutional.Conv2D object at 0x7f2014ad68d0>, <keras.layers.merge.Concatenate object at 0x7f2014adbcd0>, <keras.layers.normalization.batch_normalization.BatchNormalization object at 0x7f2014ade850>, <keras.layers.core.Activation object at 0x7f2014a646d0>, <keras.layers.convolutional.Conv2D object at 0x7f2014a64d10>, <keras.layers.normalization.batch_normalization.BatchNormalization object at 0x7f2014a6b4d0>, <keras.layers.core.Activation object at 0x7f2014a72310>, <keras.layers.convolutional.Conv2D object at 0x7f2014a72950>, <keras.layers.merge.Concatenate object at 0x7f2014a76d10>, <keras.layers.normalization.batch_normalization.BatchNormalization object at 0x7f2014a7a8d0>, <keras.layers.core.Activation object at 0x7f2014a7f710>, <keras.layers.convolutional.Conv2D object at 0x7f2014a7fd50>, <keras.layers.normalization.batch_normalization.BatchNormalization object at 0x7f2014a86510>, <keras.layers.core.Activation object at 0x7f2014a8a410>, <keras.layers.convolutional.Conv2D object at 0x7f2014a8a990>, <keras.layers.merge.Concatenate object at 0x7f2014a8fd50>, <keras.layers.normalization.batch_normalization.BatchNormalization object at 0x7f2014a90910>, <keras.layers.core.Activation object at 0x7f2014a98750>, <keras.layers.convolutional.Conv2D object at 0x7f2014a98d90>, <keras.layers.normalization.batch_normalization.BatchNormalization object at 0x7f2014aa0550>, <keras.layers.core.Activation object at 0x7f2014a25390>, <keras.layers.convolutional.Conv2D object at 0x7f2014a259d0>, <keras.layers.merge.Concatenate object at 0x7f2014a2ad90>, <keras.layers.normalization.batch_normalization.BatchNormalization object at 0x7f2014a2d950>, <keras.layers.core.Activation object at 0x7f2014a32790>, <keras.layers.convolutional.Conv2D object at 0x7f2014a32dd0>, <keras.layers.normalization.batch_normalization.BatchNormalization object at 0x7f2014a3c590>, <keras.layers.core.Activation object at 0x7f2014a413d0>, <keras.layers.convolutional.Conv2D object at 0x7f2014a41a10>, <keras.layers.merge.Concatenate object at 0x7f2014a45dd0>, <keras.layers.normalization.batch_normalization.BatchNormalization object at 0x7f2014a46990>, <keras.layers.core.Activation object at 0x7f2014a4e7d0>, <keras.layers.convolutional.Conv2D object at 0x7f2014a4edd0>, <keras.layers.normalization.batch_normalization.BatchNormalization object at 0x7f2014a545d0>, <keras.layers.core.Activation object at 0x7f2014a5b410>, <keras.layers.convolutional.Conv2D object at 0x7f2014a5ba50>, <keras.layers.merge.Concatenate object at 0x7f2014a60e10>, <keras.layers.normalization.batch_normalization.BatchNormalization object at 0x7f20149a49d0>, <keras.layers.core.Activation object at 0x7f20149a8610>, <keras.layers.convolutional.Conv2D object at 0x7f20149a8e50>, <keras.layers.normalization.batch_normalization.BatchNormalization object at 0x7f20149b0610>, <keras.layers.core.Activation object at 0x7f20149b5450>, <keras.layers.convolutional.Conv2D object at 0x7f20149b5a90>, <keras.layers.merge.Concatenate object at 0x7f20149b8e50>, <keras.layers.normalization.batch_normalization.BatchNormalization object at 0x7f20149bea10>, <keras.layers.core.Activation object at 0x7f20149c4650>, <keras.layers.convolutional.Conv2D object at 0x7f20149c4e90>, <keras.layers.normalization.batch_normalization.BatchNormalization object at 0x7f20149ca650>, <keras.layers.core.Activation object at 0x7f20149cf490>, <keras.layers.convolutional.Conv2D object at 0x7f20149cfad0>, <keras.layers.merge.Concatenate object at 0x7f20149d3e90>, <keras.layers.normalization.batch_normalization.BatchNormalization object at 0x7f20149d7a50>, <keras.layers.core.Activation object at 0x7f20149dd890>, <keras.layers.convolutional.Conv2D object at 0x7f20149dded0>, <keras.layers.normalization.batch_normalization.BatchNormalization object at 0x7f2014966690>, <keras.layers.core.Activation object at 0x7f201496c4d0>, <keras.layers.convolutional.Conv2D object at 0x7f201496cb10>, <keras.layers.merge.Concatenate object at 0x7f2014970ed0>, <keras.layers.normalization.batch_normalization.BatchNormalization object at 0x7f2014973a90>, <keras.layers.core.Activation object at 0x7f20149788d0>, <keras.layers.convolutional.Conv2D object at 0x7f2014978f10>, <keras.layers.normalization.batch_normalization.BatchNormalization object at 0x7f20149816d0>, <keras.layers.core.Activation object at 0x7f2014985510>, <keras.layers.convolutional.Conv2D object at 0x7f2014985b50>, <keras.layers.merge.Concatenate object at 0x7f201498af10>, <keras.layers.normalization.batch_normalization.BatchNormalization object at 0x7f201498dad0>, <keras.layers.core.Activation object at 0x7f2014991910>, <keras.layers.convolutional.Conv2D object at 0x7f2014991f50>, <keras.layers.normalization.batch_normalization.BatchNormalization object at 0x7f201499d710>, <keras.layers.core.Activation object at 0x7f20149a1550>, <keras.layers.convolutional.Conv2D object at 0x7f20149a1b90>, <keras.layers.merge.Concatenate object at 0x7f2014924f50>, <keras.layers.normalization.batch_normalization.BatchNormalization object at 0x7f2014928b10>, <keras.layers.core.Activation object at 0x7f201492e950>, <keras.layers.convolutional.Conv2D object at 0x7f201492ef90>, <keras.layers.normalization.batch_normalization.BatchNormalization object at 0x7f2014934750>, <keras.layers.core.Activation object at 0x7f201493a590>, <keras.layers.convolutional.Conv2D object at 0x7f201493abd0>, <keras.layers.merge.Concatenate object at 0x7f201493ff90>, <keras.layers.normalization.batch_normalization.BatchNormalization object at 0x7f2014942bd0>, <keras.layers.core.Activation object at 0x7f2014947c10>, <keras.layers.convolutional.Conv2D object at 0x7f201494c210>, <keras.layers.pooling.AveragePooling2D object at 0x7f201494f610>, <keras.layers.normalization.batch_normalization.BatchNormalization object at 0x7f20149524d0>, <keras.layers.core.Activation object at 0x7f2014958310>, <keras.layers.convolutional.Conv2D object at 0x7f2014958950>, <keras.layers.normalization.batch_normalization.BatchNormalization object at 0x7f2014961110>, <keras.layers.core.Activation object at 0x7f2014961f50>, <keras.layers.convolutional.Conv2D object at 0x7f20148e6590>, <keras.layers.merge.Concatenate object at 0x7f20148ea990>, <keras.layers.normalization.batch_normalization.BatchNormalization object at 0x7f20148ee550>, <keras.layers.core.Activation object at 0x7f20148f2450>, <keras.layers.convolutional.Conv2D object at 0x7f20148f29d0>, <keras.layers.normalization.batch_normalization.BatchNormalization object at 0x7f20148f8190>, <keras.layers.core.Activation object at 0x7f2014901110>, <keras.layers.convolutional.Conv2D object at 0x7f2014901610>, <keras.layers.merge.Concatenate object at 0x7f20149059d0>, <keras.layers.normalization.batch_normalization.BatchNormalization object at 0x7f2014909590>, <keras.layers.core.Activation object at 0x7f201490d3d0>, <keras.layers.convolutional.Conv2D object at 0x7f201490da10>, <keras.layers.normalization.batch_normalization.BatchNormalization object at 0x7f20149161d0>, <keras.layers.core.Activation object at 0x7f201491d0d0>, <keras.layers.convolutional.Conv2D object at 0x7f201491d650>, <keras.layers.merge.Concatenate object at 0x7f2014920a10>, <keras.layers.normalization.batch_normalization.BatchNormalization object at 0x7f20148a35d0>, <keras.layers.core.Activation object at 0x7f20148a7410>, <keras.layers.convolutional.Conv2D object at 0x7f20148a7a50>, <keras.layers.normalization.batch_normalization.BatchNormalization object at 0x7f20148b0210>, <keras.layers.core.Activation object at 0x7f20148b5110>, <keras.layers.convolutional.Conv2D object at 0x7f20148b5690>, <keras.layers.merge.Concatenate object at 0x7f20148baa50>, <keras.layers.normalization.batch_normalization.BatchNormalization object at 0x7f20148bf610>, <keras.layers.core.Activation object at 0x7f20148c3450>, <keras.layers.convolutional.Conv2D object at 0x7f20148c3a90>, <keras.layers.normalization.batch_normalization.BatchNormalization object at 0x7f20148cb250>, <keras.layers.core.Activation object at 0x7f20148cf050>, <keras.layers.convolutional.Conv2D object at 0x7f20148cf6d0>, <keras.layers.merge.Concatenate object at 0x7f20148d3a90>, <keras.layers.normalization.batch_normalization.BatchNormalization object at 0x7f20148d9650>, <keras.layers.core.Activation object at 0x7f20148de490>, <keras.layers.convolutional.Conv2D object at 0x7f20148dead0>, <keras.layers.normalization.batch_normalization.BatchNormalization object at 0x7f2014866290>, <keras.layers.core.Activation object at 0x7f201486a0d0>, <keras.layers.convolutional.Conv2D object at 0x7f201486a710>, <keras.layers.merge.Concatenate object at 0x7f201486fad0>, <keras.layers.normalization.batch_normalization.BatchNormalization object at 0x7f2014873690>, <keras.layers.core.Activation object at 0x7f20148764d0>, <keras.layers.convolutional.Conv2D object at 0x7f2014876b10>, <keras.layers.normalization.batch_normalization.BatchNormalization object at 0x7f20148812d0>, <keras.layers.core.Activation object at 0x7f2014884110>, <keras.layers.convolutional.Conv2D object at 0x7f2014884750>, <keras.layers.merge.Concatenate object at 0x7f2014889b10>, <keras.layers.normalization.batch_normalization.BatchNormalization object at 0x7f201488a6d0>, <keras.layers.core.Activation object at 0x7f2014893510>, <keras.layers.convolutional.Conv2D object at 0x7f2014893b50>, <keras.layers.normalization.batch_normalization.BatchNormalization object at 0x7f201489a310>, <keras.layers.core.Activation object at 0x7f20148a0150>, <keras.layers.convolutional.Conv2D object at 0x7f20148a0790>, <keras.layers.merge.Concatenate object at 0x7f2014824b50>, <keras.layers.normalization.batch_normalization.BatchNormalization object at 0x7f2014828710>, <keras.layers.core.Activation object at 0x7f201482c350>, <keras.layers.convolutional.Conv2D object at 0x7f201482cb90>, <keras.layers.normalization.batch_normalization.BatchNormalization object at 0x7f2014836350>, <keras.layers.core.Activation object at 0x7f201483b190>, <keras.layers.convolutional.Conv2D object at 0x7f201483b7d0>, <keras.layers.merge.Concatenate object at 0x7f201483fb90>, <keras.layers.normalization.batch_normalization.BatchNormalization object at 0x7f2014840750>, <keras.layers.core.Activation object at 0x7f201484a390>, <keras.layers.convolutional.Conv2D object at 0x7f201484abd0>, <keras.layers.normalization.batch_normalization.BatchNormalization object at 0x7f2014853390>, <keras.layers.core.Activation object at 0x7f20148581d0>, <keras.layers.convolutional.Conv2D object at 0x7f2014858810>, <keras.layers.merge.Concatenate object at 0x7f201485ebd0>, <keras.layers.normalization.batch_normalization.BatchNormalization object at 0x7f2014861790>, <keras.layers.core.Activation object at 0x7f20147e65d0>, <keras.layers.convolutional.Conv2D object at 0x7f20147e6c10>, <keras.layers.normalization.batch_normalization.BatchNormalization object at 0x7f20147f03d0>, <keras.layers.core.Activation object at 0x7f20147f7210>, <keras.layers.convolutional.Conv2D object at 0x7f20147f7850>, <keras.layers.merge.Concatenate object at 0x7f20147fabd0>, <keras.layers.normalization.batch_normalization.BatchNormalization object at 0x7f20147fe790>, <keras.layers.core.Activation object at 0x7f2014805610>, <keras.layers.convolutional.Conv2D object at 0x7f2014805c50>, <keras.layers.normalization.batch_normalization.BatchNormalization object at 0x7f2014805790>, <keras.layers.core.Activation object at 0x7f2014813310>, <keras.layers.convolutional.Conv2D object at 0x7f2014813890>, <keras.layers.merge.Concatenate object at 0x7f2014817c50>, <keras.layers.normalization.batch_normalization.BatchNormalization object at 0x7f201481c810>, <keras.layers.core.Activation object at 0x7f2014820450>, <keras.layers.convolutional.Conv2D object at 0x7f2014820c90>, <keras.layers.normalization.batch_normalization.BatchNormalization object at 0x7f20147ab450>, <keras.layers.core.Activation object at 0x7f20147b0290>, <keras.layers.convolutional.Conv2D object at 0x7f20147b08d0>, <keras.layers.merge.Concatenate object at 0x7f20147b5c90>, <keras.layers.normalization.batch_normalization.BatchNormalization object at 0x7f20147b9850>, <keras.layers.core.Activation object at 0x7f20147bc690>, <keras.layers.convolutional.Conv2D object at 0x7f20147bccd0>, <keras.layers.normalization.batch_normalization.BatchNormalization object at 0x7f20147c7490>, <keras.layers.core.Activation object at 0x7f20147cb2d0>, <keras.layers.convolutional.Conv2D object at 0x7f20147cb910>, <keras.layers.merge.Concatenate object at 0x7f20147d0cd0>, <keras.layers.normalization.batch_normalization.BatchNormalization object at 0x7f20147d7890>, <keras.layers.core.Activation object at 0x7f20147db6d0>, <keras.layers.convolutional.Conv2D object at 0x7f20147dbd10>, <keras.layers.normalization.batch_normalization.BatchNormalization object at 0x7f20147654d0>, <keras.layers.core.Activation object at 0x7f201476b150>, <keras.layers.convolutional.Conv2D object at 0x7f201476b910>, <keras.layers.merge.Concatenate object at 0x7f2014770d10>, <keras.layers.normalization.batch_normalization.BatchNormalization object at 0x7f20147748d0>, <keras.layers.core.Activation object at 0x7f2014778710>, <keras.layers.convolutional.Conv2D object at 0x7f2014778d50>, <keras.layers.normalization.batch_normalization.BatchNormalization object at 0x7f2014781510>, <keras.layers.core.Activation object at 0x7f2014785350>, <keras.layers.convolutional.Conv2D object at 0x7f2014785990>, <keras.layers.merge.Concatenate object at 0x7f201478ad50>, <keras.layers.normalization.batch_normalization.BatchNormalization object at 0x7f201478f910>, <keras.layers.core.Activation object at 0x7f2014794750>, <keras.layers.convolutional.Conv2D object at 0x7f2014794d90>, <keras.layers.normalization.batch_normalization.BatchNormalization object at 0x7f201479d550>, <keras.layers.core.Activation object at 0x7f2014723390>, <keras.layers.convolutional.Conv2D object at 0x7f2014723990>, <keras.layers.merge.Concatenate object at 0x7f2014728d90>, <keras.layers.normalization.batch_normalization.BatchNormalization object at 0x7f201472c950>, <keras.layers.core.Activation object at 0x7f2014732790>, <keras.layers.convolutional.Conv2D object at 0x7f2014732dd0>, <keras.layers.normalization.batch_normalization.BatchNormalization object at 0x7f201473a590>, <keras.layers.core.Activation object at 0x7f20147403d0>, <keras.layers.convolutional.Conv2D object at 0x7f2014740a10>, <keras.layers.merge.Concatenate object at 0x7f2014743dd0>, <keras.layers.normalization.batch_normalization.BatchNormalization object at 0x7f2014747990>, <keras.layers.core.Activation object at 0x7f201474e7d0>, <keras.layers.convolutional.Conv2D object at 0x7f201474ee10>, <keras.layers.normalization.batch_normalization.BatchNormalization object at 0x7f20147585d0>, <keras.layers.core.Activation object at 0x7f201475c410>, <keras.layers.convolutional.Conv2D object at 0x7f201475ca50>, <keras.layers.merge.Concatenate object at 0x7f20146e2e10>, <keras.layers.normalization.batch_normalization.BatchNormalization object at 0x7f20146e89d0>, <keras.layers.core.Activation object at 0x7f20146ec610>, <keras.layers.convolutional.Conv2D object at 0x7f20146ece50>, <keras.layers.normalization.batch_normalization.BatchNormalization object at 0x7f20146f55d0>, <keras.layers.core.Activation object at 0x7f20146f9450>, <keras.layers.convolutional.Conv2D object at 0x7f20146f9a90>, <keras.layers.merge.Concatenate object at 0x7f20146fee50>, <keras.layers.normalization.batch_normalization.BatchNormalization object at 0x7f2014703a10>, <keras.layers.core.Activation object at 0x7f2014709850>, <keras.layers.convolutional.Conv2D object at 0x7f2014709e90>, <keras.layers.normalization.batch_normalization.BatchNormalization object at 0x7f2014710650>, <keras.layers.core.Activation object at 0x7f2014715290>, <keras.layers.convolutional.Conv2D object at 0x7f2014715ad0>, <keras.layers.merge.Concatenate object at 0x7f201471be90>, <keras.layers.normalization.batch_normalization.BatchNormalization object at 0x7f2014720a50>, <keras.layers.core.Activation object at 0x7f20146a63d0>, <keras.layers.convolutional.Conv2D object at 0x7f20146a6e90>, <keras.layers.normalization.batch_normalization.BatchNormalization object at 0x7f20146ac690>, <keras.layers.core.Activation object at 0x7f20146b34d0>, <keras.layers.convolutional.Conv2D object at 0x7f20146b3ad0>, <keras.layers.merge.Concatenate object at 0x7f20146b7ed0>, <keras.layers.normalization.batch_normalization.BatchNormalization object at 0x7f20146bba90>, <keras.layers.core.Activation object at 0x7f20146c28d0>, <keras.layers.convolutional.Conv2D object at 0x7f20146c2f10>, <keras.layers.normalization.batch_normalization.BatchNormalization object at 0x7f20146cb6d0>, <keras.layers.core.Activation object at 0x7f20146d0510>, <keras.layers.convolutional.Conv2D object at 0x7f20146d0b50>, <keras.layers.merge.Concatenate object at 0x7f20146d6f10>, <keras.layers.normalization.batch_normalization.BatchNormalization object at 0x7f20146daa90>, <keras.layers.core.Activation object at 0x7f20146df910>, <keras.layers.convolutional.Conv2D object at 0x7f20146dff50>, <keras.layers.normalization.batch_normalization.BatchNormalization object at 0x7f2014669710>, <keras.layers.core.Activation object at 0x7f201466f550>, <keras.layers.convolutional.Conv2D object at 0x7f201466fb50>, <keras.layers.merge.Concatenate object at 0x7f2014670f50>, <keras.layers.normalization.batch_normalization.BatchNormalization object at 0x7f2014678b90>, <keras.layers.core.Activation object at 0x7f201467ebd0>, <keras.layers.convolutional.Conv2D object at 0x7f20146841d0>, <keras.layers.pooling.AveragePooling2D object at 0x7f20146865d0>, <keras.layers.normalization.batch_normalization.BatchNormalization object at 0x7f201468a490>, <keras.layers.core.Activation object at 0x7f201468e2d0>, <keras.layers.convolutional.Conv2D object at 0x7f201468e910>, <keras.layers.normalization.batch_normalization.BatchNormalization object at 0x7f20146980d0>, <keras.layers.core.Activation object at 0x7f2014692bd0>, <keras.layers.convolutional.Conv2D object at 0x7f201469e550>, <keras.layers.merge.Concatenate object at 0x7f2014622950>, <keras.layers.normalization.batch_normalization.BatchNormalization object at 0x7f2014627510>, <keras.layers.core.Activation object at 0x7f201462d350>, <keras.layers.convolutional.Conv2D object at 0x7f201462d990>, <keras.layers.normalization.batch_normalization.BatchNormalization object at 0x7f2014636150>, <keras.layers.core.Activation object at 0x7f201463b050>, <keras.layers.convolutional.Conv2D object at 0x7f201463b5d0>, <keras.layers.merge.Concatenate object at 0x7f201463e990>, <keras.layers.normalization.batch_normalization.BatchNormalization object at 0x7f2014643550>, <keras.layers.core.Activation object at 0x7f2014648390>, <keras.layers.convolutional.Conv2D object at 0x7f20146489d0>, <keras.layers.normalization.batch_normalization.BatchNormalization object at 0x7f2014652190>, <keras.layers.core.Activation object at 0x7f201465b090>, <keras.layers.convolutional.Conv2D object at 0x7f201465b5d0>, <keras.layers.merge.Concatenate object at 0x7f201465e9d0>, <keras.layers.normalization.batch_normalization.BatchNormalization object at 0x7f20145e2590>, <keras.layers.core.Activation object at 0x7f20145e63d0>, <keras.layers.convolutional.Conv2D object at 0x7f20145e69d0>, <keras.layers.normalization.batch_normalization.BatchNormalization object at 0x7f20145f11d0>, <keras.layers.core.Activation object at 0x7f20145f5150>, <keras.layers.convolutional.Conv2D object at 0x7f20145f5650>, <keras.layers.merge.Concatenate object at 0x7f20145faa10>, <keras.layers.normalization.batch_normalization.BatchNormalization object at 0x7f20145fe5d0>, <keras.layers.core.Activation object at 0x7f2014602410>, <keras.layers.convolutional.Conv2D object at 0x7f2014602a50>, <keras.layers.normalization.batch_normalization.BatchNormalization object at 0x7f201460b210>, <keras.layers.core.Activation object at 0x7f2014614090>, <keras.layers.convolutional.Conv2D object at 0x7f2014614690>, <keras.layers.merge.Concatenate object at 0x7f2014619a50>, <keras.layers.normalization.batch_normalization.BatchNormalization object at 0x7f201461c610>, <keras.layers.core.Activation object at 0x7f2014620450>, <keras.layers.convolutional.Conv2D object at 0x7f2014620a90>, <keras.layers.normalization.batch_normalization.BatchNormalization object at 0x7f20145ab250>, <keras.layers.core.Activation object at 0x7f20145b0150>, <keras.layers.convolutional.Conv2D object at 0x7f20145b06d0>, <keras.layers.merge.Concatenate object at 0x7f20145b5a90>, <keras.layers.normalization.batch_normalization.BatchNormalization object at 0x7f20145b8650>, <keras.layers.core.Activation object at 0x7f20145bd490>, <keras.layers.convolutional.Conv2D object at 0x7f20145bdad0>, <keras.layers.normalization.batch_normalization.BatchNormalization object at 0x7f20145c7290>, <keras.layers.core.Activation object at 0x7f20145ce0d0>, <keras.layers.convolutional.Conv2D object at 0x7f20145ce710>, <keras.layers.merge.Concatenate object at 0x7f20145d2ad0>, <keras.layers.normalization.batch_normalization.BatchNormalization object at 0x7f20145d7690>, <keras.layers.core.Activation object at 0x7f20145dc2d0>, <keras.layers.convolutional.Conv2D object at 0x7f20145dcb10>, <keras.layers.normalization.batch_normalization.BatchNormalization object at 0x7f20145652d0>, <keras.layers.core.Activation object at 0x7f201456b110>, <keras.layers.convolutional.Conv2D object at 0x7f201456b750>, <keras.layers.merge.Concatenate object at 0x7f201456fb10>, <keras.layers.normalization.batch_normalization.BatchNormalization object at 0x7f20145726d0>, <keras.layers.core.Activation object at 0x7f2014579510>, <keras.layers.convolutional.Conv2D object at 0x7f2014579b50>, <keras.layers.normalization.batch_normalization.BatchNormalization object at 0x7f2014583310>, <keras.layers.core.Activation object at 0x7f2014589150>, <keras.layers.convolutional.Conv2D object at 0x7f2014589790>, <keras.layers.merge.Concatenate object at 0x7f201458fb50>, <keras.layers.normalization.batch_normalization.BatchNormalization object at 0x7f2014592710>, <keras.layers.core.Activation object at 0x7f2014596550>, <keras.layers.convolutional.Conv2D object at 0x7f2014596b90>, <keras.layers.normalization.batch_normalization.BatchNormalization object at 0x7f20145a0350>, <keras.layers.core.Activation object at 0x7f2014524190>, <keras.layers.convolutional.Conv2D object at 0x7f20145247d0>, <keras.layers.merge.Concatenate object at 0x7f2014529b90>, <keras.layers.normalization.batch_normalization.BatchNormalization object at 0x7f201452d750>, <keras.layers.core.Activation object at 0x7f2014533590>, <keras.layers.convolutional.Conv2D object at 0x7f2014533bd0>, <keras.layers.normalization.batch_normalization.BatchNormalization object at 0x7f201453c390>, <keras.layers.core.Activation object at 0x7f2014541290>, <keras.layers.convolutional.Conv2D object at 0x7f20145417d0>, <keras.layers.merge.Concatenate object at 0x7f2014546bd0>, <keras.layers.normalization.batch_normalization.BatchNormalization object at 0x7f2014549790>, <keras.layers.core.Activation object at 0x7f20145505d0>, <keras.layers.convolutional.Conv2D object at 0x7f2014550c10>, <keras.layers.normalization.batch_normalization.BatchNormalization object at 0x7f201455b3d0>, <keras.layers.core.Activation object at 0x7f2014561210>, <keras.layers.convolutional.Conv2D object at 0x7f2014561850>, <keras.layers.merge.Concatenate object at 0x7f20144e6c10>, <keras.layers.normalization.batch_normalization.BatchNormalization object at 0x7f20144e6bd0>, <keras.layers.core.Activation object at 0x7f20144ef410>, <keras.layers.convolutional.Conv2D object at 0x7f20144efc50>, <keras.layers.normalization.batch_normalization.BatchNormalization object at 0x7f20144f9410>, <keras.layers.core.Activation object at 0x7f20144fd250>, <keras.layers.convolutional.Conv2D object at 0x7f20144fd890>, <keras.layers.merge.Concatenate object at 0x7f2014502c50>, <keras.layers.normalization.batch_normalization.BatchNormalization object at 0x7f2014507810>, <keras.layers.core.Activation object at 0x7f201450b650>, <keras.layers.convolutional.Conv2D object at 0x7f201450bc90>, <keras.layers.normalization.batch_normalization.BatchNormalization object at 0x7f2014515450>, <keras.layers.core.Activation object at 0x7f201451a290>, <keras.layers.convolutional.Conv2D object at 0x7f201451a8d0>, <keras.layers.merge.Concatenate object at 0x7f201451fc90>, <keras.layers.normalization.batch_normalization.BatchNormalization object at 0x7f20144a3850>, <keras.layers.core.Activation object at 0x7f20144a9690>, <keras.layers.convolutional.Conv2D object at 0x7f20144a9c90>, <keras.layers.normalization.batch_normalization.BatchNormalization object at 0x7f20144b4490>, <keras.layers.core.Activation object at 0x7f20144b82d0>, <keras.layers.convolutional.Conv2D object at 0x7f20144b8910>, <keras.layers.merge.Concatenate object at 0x7f20144bbcd0>, <keras.layers.normalization.batch_normalization.BatchNormalization object at 0x7f20144c1890>, <keras.layers.core.Activation object at 0x7f20144c86d0>, <keras.layers.convolutional.Conv2D object at 0x7f20144c8d10>, <keras.layers.normalization.batch_normalization.BatchNormalization object at 0x7f20144d34d0>, <keras.layers.core.Activation object at 0x7f20144d9310>, <keras.layers.convolutional.Conv2D object at 0x7f20144d9950>, <keras.layers.merge.Concatenate object at 0x7f20144ddd10>, <keras.layers.normalization.batch_normalization.BatchNormalization object at 0x7f2014462950>, <keras.layers.core.Activation object at 0x7f2014466750>, <keras.layers.pooling.GlobalAveragePooling2D object at 0x7f201446a1d0>]",
     "output_type": "error",
     "traceback": [
      "\u001b[0;31m---------------------------------------------------------------------------\u001b[0m",
      "\u001b[0;31mTypeError\u001b[0m                                 Traceback (most recent call last)",
      "\u001b[0;32m/tmp/ipykernel_1141/916649572.py\u001b[0m in \u001b[0;36m<module>\u001b[0;34m\u001b[0m\n\u001b[1;32m     21\u001b[0m     \u001b[0;32mreturn\u001b[0m \u001b[0mchexnet\u001b[0m\u001b[0;34m\u001b[0m\u001b[0;34m\u001b[0m\u001b[0m\n\u001b[1;32m     22\u001b[0m \u001b[0;34m\u001b[0m\u001b[0m\n\u001b[0;32m---> 23\u001b[0;31m \u001b[0mchexnet\u001b[0m \u001b[0;34m=\u001b[0m \u001b[0mload_chexnet\u001b[0m\u001b[0;34m(\u001b[0m\u001b[0;36m20\u001b[0m\u001b[0;34m)\u001b[0m\u001b[0;34m\u001b[0m\u001b[0;34m\u001b[0m\u001b[0m\n\u001b[0m\u001b[1;32m     24\u001b[0m \u001b[0mprint\u001b[0m\u001b[0;34m(\u001b[0m\u001b[0mchexnet\u001b[0m\u001b[0;34m.\u001b[0m\u001b[0msummary\u001b[0m\u001b[0;34m(\u001b[0m\u001b[0;34m)\u001b[0m\u001b[0;34m)\u001b[0m\u001b[0;34m\u001b[0m\u001b[0;34m\u001b[0m\u001b[0m\n",
      "\u001b[0;32m/tmp/ipykernel_1141/916649572.py\u001b[0m in \u001b[0;36mload_chexnet\u001b[0;34m(output_dim, mode)\u001b[0m\n\u001b[1;32m      7\u001b[0m     \u001b[0mbase_model_old\u001b[0m \u001b[0;34m=\u001b[0m \u001b[0mtf\u001b[0m\u001b[0;34m.\u001b[0m\u001b[0mkeras\u001b[0m\u001b[0;34m.\u001b[0m\u001b[0mmodels\u001b[0m\u001b[0;34m.\u001b[0m\u001b[0mload_model\u001b[0m\u001b[0;34m(\u001b[0m\u001b[0;34m'chexnet'\u001b[0m\u001b[0;34m)\u001b[0m\u001b[0;34m\u001b[0m\u001b[0;34m\u001b[0m\u001b[0m\n\u001b[1;32m      8\u001b[0m     base_model = tf.keras.Sequential([base_model_old.layers[:-1], \n\u001b[0;32m----> 9\u001b[0;31m                                       \u001b[0mtf\u001b[0m\u001b[0;34m.\u001b[0m\u001b[0mkeras\u001b[0m\u001b[0;34m.\u001b[0m\u001b[0mlayers\u001b[0m\u001b[0;34m.\u001b[0m\u001b[0mDense\u001b[0m\u001b[0;34m(\u001b[0m\u001b[0moutput_dim\u001b[0m\u001b[0;34m,\u001b[0m \u001b[0mactivation\u001b[0m\u001b[0;34m=\u001b[0m\u001b[0;34m'softmax'\u001b[0m\u001b[0;34m)\u001b[0m\u001b[0;34m,\u001b[0m\u001b[0;34m\u001b[0m\u001b[0;34m\u001b[0m\u001b[0m\n\u001b[0m\u001b[1;32m     10\u001b[0m                                      ]) ## remove old prediction layer\n\u001b[1;32m     11\u001b[0m \u001b[0;34m\u001b[0m\u001b[0m\n",
      "\u001b[0;32m/opt/conda/lib/python3.7/site-packages/tensorflow/python/training/tracking/base.py\u001b[0m in \u001b[0;36m_method_wrapper\u001b[0;34m(self, *args, **kwargs)\u001b[0m\n\u001b[1;32m    528\u001b[0m     \u001b[0mself\u001b[0m\u001b[0;34m.\u001b[0m\u001b[0m_self_setattr_tracking\u001b[0m \u001b[0;34m=\u001b[0m \u001b[0;32mFalse\u001b[0m  \u001b[0;31m# pylint: disable=protected-access\u001b[0m\u001b[0;34m\u001b[0m\u001b[0;34m\u001b[0m\u001b[0m\n\u001b[1;32m    529\u001b[0m     \u001b[0;32mtry\u001b[0m\u001b[0;34m:\u001b[0m\u001b[0;34m\u001b[0m\u001b[0;34m\u001b[0m\u001b[0m\n\u001b[0;32m--> 530\u001b[0;31m       \u001b[0mresult\u001b[0m \u001b[0;34m=\u001b[0m \u001b[0mmethod\u001b[0m\u001b[0;34m(\u001b[0m\u001b[0mself\u001b[0m\u001b[0;34m,\u001b[0m \u001b[0;34m*\u001b[0m\u001b[0margs\u001b[0m\u001b[0;34m,\u001b[0m \u001b[0;34m**\u001b[0m\u001b[0mkwargs\u001b[0m\u001b[0;34m)\u001b[0m\u001b[0;34m\u001b[0m\u001b[0;34m\u001b[0m\u001b[0m\n\u001b[0m\u001b[1;32m    531\u001b[0m     \u001b[0;32mfinally\u001b[0m\u001b[0;34m:\u001b[0m\u001b[0;34m\u001b[0m\u001b[0;34m\u001b[0m\u001b[0m\n\u001b[1;32m    532\u001b[0m       \u001b[0mself\u001b[0m\u001b[0;34m.\u001b[0m\u001b[0m_self_setattr_tracking\u001b[0m \u001b[0;34m=\u001b[0m \u001b[0mprevious_value\u001b[0m  \u001b[0;31m# pylint: disable=protected-access\u001b[0m\u001b[0;34m\u001b[0m\u001b[0;34m\u001b[0m\u001b[0m\n",
      "\u001b[0;32m/opt/conda/lib/python3.7/site-packages/keras/engine/sequential.py\u001b[0m in \u001b[0;36m__init__\u001b[0;34m(self, layers, name)\u001b[0m\n\u001b[1;32m    132\u001b[0m         \u001b[0mlayers\u001b[0m \u001b[0;34m=\u001b[0m \u001b[0;34m[\u001b[0m\u001b[0mlayers\u001b[0m\u001b[0;34m]\u001b[0m\u001b[0;34m\u001b[0m\u001b[0;34m\u001b[0m\u001b[0m\n\u001b[1;32m    133\u001b[0m       \u001b[0;32mfor\u001b[0m \u001b[0mlayer\u001b[0m \u001b[0;32min\u001b[0m \u001b[0mlayers\u001b[0m\u001b[0;34m:\u001b[0m\u001b[0;34m\u001b[0m\u001b[0;34m\u001b[0m\u001b[0m\n\u001b[0;32m--> 134\u001b[0;31m         \u001b[0mself\u001b[0m\u001b[0;34m.\u001b[0m\u001b[0madd\u001b[0m\u001b[0;34m(\u001b[0m\u001b[0mlayer\u001b[0m\u001b[0;34m)\u001b[0m\u001b[0;34m\u001b[0m\u001b[0;34m\u001b[0m\u001b[0m\n\u001b[0m\u001b[1;32m    135\u001b[0m \u001b[0;34m\u001b[0m\u001b[0m\n\u001b[1;32m    136\u001b[0m   \u001b[0;34m@\u001b[0m\u001b[0mproperty\u001b[0m\u001b[0;34m\u001b[0m\u001b[0;34m\u001b[0m\u001b[0m\n",
      "\u001b[0;32m/opt/conda/lib/python3.7/site-packages/tensorflow/python/training/tracking/base.py\u001b[0m in \u001b[0;36m_method_wrapper\u001b[0;34m(self, *args, **kwargs)\u001b[0m\n\u001b[1;32m    528\u001b[0m     \u001b[0mself\u001b[0m\u001b[0;34m.\u001b[0m\u001b[0m_self_setattr_tracking\u001b[0m \u001b[0;34m=\u001b[0m \u001b[0;32mFalse\u001b[0m  \u001b[0;31m# pylint: disable=protected-access\u001b[0m\u001b[0;34m\u001b[0m\u001b[0;34m\u001b[0m\u001b[0m\n\u001b[1;32m    529\u001b[0m     \u001b[0;32mtry\u001b[0m\u001b[0;34m:\u001b[0m\u001b[0;34m\u001b[0m\u001b[0;34m\u001b[0m\u001b[0m\n\u001b[0;32m--> 530\u001b[0;31m       \u001b[0mresult\u001b[0m \u001b[0;34m=\u001b[0m \u001b[0mmethod\u001b[0m\u001b[0;34m(\u001b[0m\u001b[0mself\u001b[0m\u001b[0;34m,\u001b[0m \u001b[0;34m*\u001b[0m\u001b[0margs\u001b[0m\u001b[0;34m,\u001b[0m \u001b[0;34m**\u001b[0m\u001b[0mkwargs\u001b[0m\u001b[0;34m)\u001b[0m\u001b[0;34m\u001b[0m\u001b[0;34m\u001b[0m\u001b[0m\n\u001b[0m\u001b[1;32m    531\u001b[0m     \u001b[0;32mfinally\u001b[0m\u001b[0;34m:\u001b[0m\u001b[0;34m\u001b[0m\u001b[0;34m\u001b[0m\u001b[0m\n\u001b[1;32m    532\u001b[0m       \u001b[0mself\u001b[0m\u001b[0;34m.\u001b[0m\u001b[0m_self_setattr_tracking\u001b[0m \u001b[0;34m=\u001b[0m \u001b[0mprevious_value\u001b[0m  \u001b[0;31m# pylint: disable=protected-access\u001b[0m\u001b[0;34m\u001b[0m\u001b[0;34m\u001b[0m\u001b[0m\n",
      "\u001b[0;32m/opt/conda/lib/python3.7/site-packages/keras/engine/sequential.py\u001b[0m in \u001b[0;36madd\u001b[0;34m(self, layer)\u001b[0m\n\u001b[1;32m    175\u001b[0m       raise TypeError('The added layer must be '\n\u001b[1;32m    176\u001b[0m                       \u001b[0;34m'an instance of class Layer. '\u001b[0m\u001b[0;34m\u001b[0m\u001b[0;34m\u001b[0m\u001b[0m\n\u001b[0;32m--> 177\u001b[0;31m                       'Found: ' + str(layer))\n\u001b[0m\u001b[1;32m    178\u001b[0m \u001b[0;34m\u001b[0m\u001b[0m\n\u001b[1;32m    179\u001b[0m     \u001b[0mtf_utils\u001b[0m\u001b[0;34m.\u001b[0m\u001b[0massert_no_legacy_layers\u001b[0m\u001b[0;34m(\u001b[0m\u001b[0;34m[\u001b[0m\u001b[0mlayer\u001b[0m\u001b[0;34m]\u001b[0m\u001b[0;34m)\u001b[0m\u001b[0;34m\u001b[0m\u001b[0;34m\u001b[0m\u001b[0m\n",
      "\u001b[0;31mTypeError\u001b[0m: The added layer must be an instance of class Layer. Found: [<keras.engine.input_layer.InputLayer object at 0x7f2036343550>, <keras.layers.convolutional.ZeroPadding2D object at 0x7f2036343f50>, <keras.layers.convolutional.Conv2D object at 0x7f2036341890>, <keras.layers.normalization.batch_normalization.BatchNormalization object at 0x7f2036350150>, <keras.layers.core.Activation object at 0x7f2036365110>, <keras.layers.convolutional.ZeroPadding2D object at 0x7f2036365650>, <keras.layers.pooling.MaxPooling2D object at 0x7f2036365f50>, <keras.layers.normalization.batch_normalization.BatchNormalization object at 0x7f2036347dd0>, <keras.layers.core.Activation object at 0x7f2036356c10>, <keras.layers.convolutional.Conv2D object at 0x7f2014da1290>, <keras.layers.normalization.batch_normalization.BatchNormalization object at 0x7f2014d9da10>, <keras.layers.core.Activation object at 0x7f2014d9b850>, <keras.layers.convolutional.Conv2D object at 0x7f2014d9be90>, <keras.layers.merge.Concatenate object at 0x7f2014d932d0>, <keras.layers.normalization.batch_normalization.BatchNormalization object at 0x7f2014d93e50>, <keras.layers.core.Activation object at 0x7f2014d80c50>, <keras.layers.convolutional.Conv2D object at 0x7f2014d7f2d0>, <keras.layers.normalization.batch_normalization.BatchNormalization object at 0x7f2014d885d0>, <keras.layers.core.Activation object at 0x7f2014d7a850>, <keras.layers.convolutional.Conv2D object at 0x7f2014d7ae90>, <keras.layers.merge.Concatenate object at 0x7f2014d77290>, <keras.layers.normalization.batch_normalization.BatchNormalization object at 0x7f2014d77e10>, <keras.layers.core.Activation object at 0x7f2014d73c50>, <keras.layers.convolutional.Conv2D object at 0x7f2014d702d0>, <keras.layers.normalization.batch_normalization.BatchNormalization object at 0x7f2014d62050>, <keras.layers.core.Activation object at 0x7f2014d6d290>, <keras.layers.convolutional.Conv2D object at 0x7f2014d6d610>, <keras.layers.merge.Concatenate object at 0x7f2014a1fd50>, <keras.layers.normalization.batch_normalization.BatchNormalization object at 0x7f2014a1f1d0>, <keras.layers.core.Activation object at 0x7f2014a193d0>, <keras.layers.convolutional.Conv2D object at 0x7f2014a132d0>, <keras.layers.normalization.batch_normalization.BatchNormalization object at 0x7f2014a0fa50>, <keras.layers.core.Activation object at 0x7f2014a0d790>, <keras.layers.convolutional.Conv2D object at 0x7f2014a0d150>, <keras.layers.merge.Concatenate object at 0x7f20149fa2d0>, <keras.layers.normalization.batch_normalization.BatchNormalization object at 0x7f20149fae50>, <keras.layers.core.Activation object at 0x7f2014a00c90>, <keras.layers.convolutional.Conv2D object at 0x7f20149f8310>, <keras.layers.normalization.batch_normalization.BatchNormalization object at 0x7f20149eba90>, <keras.layers.core.Activation object at 0x7f20149f1890>, <keras.layers.convolutional.Conv2D object at 0x7f20149f1ed0>, <keras.layers.merge.Concatenate object at 0x7f20149e82d0>, <keras.layers.normalization.batch_normalization.BatchNormalization object at 0x7f20149e8e50>, <keras.layers.core.Activation object at 0x7f20149e4c90>, <keras.layers.convolutional.Conv2D object at 0x7f2014aa4310>, <keras.layers.normalization.batch_normalization.BatchNormalization object at 0x7f2014aa8a90>, <keras.layers.core.Activation object at 0x7f2014aaca10>, <keras.layers.convolutional.Conv2D object at 0x7f2014aacf10>, <keras.layers.merge.Concatenate object at 0x7f2014ab3310>, <keras.layers.normalization.batch_normalization.BatchNormalization object at 0x7f2014ab3f10>, <keras.layers.core.Activation object at 0x7f2014ab7f50>, <keras.layers.convolutional.Conv2D object at 0x7f2014abe550>, <keras.layers.pooling.AveragePooling2D object at 0x7f2014ac1950>, <keras.layers.normalization.batch_normalization.BatchNormalization object at 0x7f2014ac4810>, <keras.layers.core.Activation object at 0x7f2014aca650>, <keras.layers.convolutional.Conv2D object at 0x7f2014acac90>, <keras.layers.normalization.batch_normalization.BatchNormalization object at 0x7f2014ad1450>, <keras.layers.core.Activation object at 0x7f2014ad6290>, <keras.layers.convolutional.Conv2D object at 0x7f2014ad68d0>, <keras.layers.merge.Concatenate object at 0x7f2014adbcd0>, <keras.layers.normalization.batch_normalization.BatchNormalization object at 0x7f2014ade850>, <keras.layers.core.Activation object at 0x7f2014a646d0>, <keras.layers.convolutional.Conv2D object at 0x7f2014a64d10>, <keras.layers.normalization.batch_normalization.BatchNormalization object at 0x7f2014a6b4d0>, <keras.layers.core.Activation object at 0x7f2014a72310>, <keras.layers.convolutional.Conv2D object at 0x7f2014a72950>, <keras.layers.merge.Concatenate object at 0x7f2014a76d10>, <keras.layers.normalization.batch_normalization.BatchNormalization object at 0x7f2014a7a8d0>, <keras.layers.core.Activation object at 0x7f2014a7f710>, <keras.layers.convolutional.Conv2D object at 0x7f2014a7fd50>, <keras.layers.normalization.batch_normalization.BatchNormalization object at 0x7f2014a86510>, <keras.layers.core.Activation object at 0x7f2014a8a410>, <keras.layers.convolutional.Conv2D object at 0x7f2014a8a990>, <keras.layers.merge.Concatenate object at 0x7f2014a8fd50>, <keras.layers.normalization.batch_normalization.BatchNormalization object at 0x7f2014a90910>, <keras.layers.core.Activation object at 0x7f2014a98750>, <keras.layers.convolutional.Conv2D object at 0x7f2014a98d90>, <keras.layers.normalization.batch_normalization.BatchNormalization object at 0x7f2014aa0550>, <keras.layers.core.Activation object at 0x7f2014a25390>, <keras.layers.convolutional.Conv2D object at 0x7f2014a259d0>, <keras.layers.merge.Concatenate object at 0x7f2014a2ad90>, <keras.layers.normalization.batch_normalization.BatchNormalization object at 0x7f2014a2d950>, <keras.layers.core.Activation object at 0x7f2014a32790>, <keras.layers.convolutional.Conv2D object at 0x7f2014a32dd0>, <keras.layers.normalization.batch_normalization.BatchNormalization object at 0x7f2014a3c590>, <keras.layers.core.Activation object at 0x7f2014a413d0>, <keras.layers.convolutional.Conv2D object at 0x7f2014a41a10>, <keras.layers.merge.Concatenate object at 0x7f2014a45dd0>, <keras.layers.normalization.batch_normalization.BatchNormalization object at 0x7f2014a46990>, <keras.layers.core.Activation object at 0x7f2014a4e7d0>, <keras.layers.convolutional.Conv2D object at 0x7f2014a4edd0>, <keras.layers.normalization.batch_normalization.BatchNormalization object at 0x7f2014a545d0>, <keras.layers.core.Activation object at 0x7f2014a5b410>, <keras.layers.convolutional.Conv2D object at 0x7f2014a5ba50>, <keras.layers.merge.Concatenate object at 0x7f2014a60e10>, <keras.layers.normalization.batch_normalization.BatchNormalization object at 0x7f20149a49d0>, <keras.layers.core.Activation object at 0x7f20149a8610>, <keras.layers.convolutional.Conv2D object at 0x7f20149a8e50>, <keras.layers.normalization.batch_normalization.BatchNormalization object at 0x7f20149b0610>, <keras.layers.core.Activation object at 0x7f20149b5450>, <keras.layers.convolutional.Conv2D object at 0x7f20149b5a90>, <keras.layers.merge.Concatenate object at 0x7f20149b8e50>, <keras.layers.normalization.batch_normalization.BatchNormalization object at 0x7f20149bea10>, <keras.layers.core.Activation object at 0x7f20149c4650>, <keras.layers.convolutional.Conv2D object at 0x7f20149c4e90>, <keras.layers.normalization.batch_normalization.BatchNormalization object at 0x7f20149ca650>, <keras.layers.core.Activation object at 0x7f20149cf490>, <keras.layers.convolutional.Conv2D object at 0x7f20149cfad0>, <keras.layers.merge.Concatenate object at 0x7f20149d3e90>, <keras.layers.normalization.batch_normalization.BatchNormalization object at 0x7f20149d7a50>, <keras.layers.core.Activation object at 0x7f20149dd890>, <keras.layers.convolutional.Conv2D object at 0x7f20149dded0>, <keras.layers.normalization.batch_normalization.BatchNormalization object at 0x7f2014966690>, <keras.layers.core.Activation object at 0x7f201496c4d0>, <keras.layers.convolutional.Conv2D object at 0x7f201496cb10>, <keras.layers.merge.Concatenate object at 0x7f2014970ed0>, <keras.layers.normalization.batch_normalization.BatchNormalization object at 0x7f2014973a90>, <keras.layers.core.Activation object at 0x7f20149788d0>, <keras.layers.convolutional.Conv2D object at 0x7f2014978f10>, <keras.layers.normalization.batch_normalization.BatchNormalization object at 0x7f20149816d0>, <keras.layers.core.Activation object at 0x7f2014985510>, <keras.layers.convolutional.Conv2D object at 0x7f2014985b50>, <keras.layers.merge.Concatenate object at 0x7f201498af10>, <keras.layers.normalization.batch_normalization.BatchNormalization object at 0x7f201498dad0>, <keras.layers.core.Activation object at 0x7f2014991910>, <keras.layers.convolutional.Conv2D object at 0x7f2014991f50>, <keras.layers.normalization.batch_normalization.BatchNormalization object at 0x7f201499d710>, <keras.layers.core.Activation object at 0x7f20149a1550>, <keras.layers.convolutional.Conv2D object at 0x7f20149a1b90>, <keras.layers.merge.Concatenate object at 0x7f2014924f50>, <keras.layers.normalization.batch_normalization.BatchNormalization object at 0x7f2014928b10>, <keras.layers.core.Activation object at 0x7f201492e950>, <keras.layers.convolutional.Conv2D object at 0x7f201492ef90>, <keras.layers.normalization.batch_normalization.BatchNormalization object at 0x7f2014934750>, <keras.layers.core.Activation object at 0x7f201493a590>, <keras.layers.convolutional.Conv2D object at 0x7f201493abd0>, <keras.layers.merge.Concatenate object at 0x7f201493ff90>, <keras.layers.normalization.batch_normalization.BatchNormalization object at 0x7f2014942bd0>, <keras.layers.core.Activation object at 0x7f2014947c10>, <keras.layers.convolutional.Conv2D object at 0x7f201494c210>, <keras.layers.pooling.AveragePooling2D object at 0x7f201494f610>, <keras.layers.normalization.batch_normalization.BatchNormalization object at 0x7f20149524d0>, <keras.layers.core.Activation object at 0x7f2014958310>, <keras.layers.convolutional.Conv2D object at 0x7f2014958950>, <keras.layers.normalization.batch_normalization.BatchNormalization object at 0x7f2014961110>, <keras.layers.core.Activation object at 0x7f2014961f50>, <keras.layers.convolutional.Conv2D object at 0x7f20148e6590>, <keras.layers.merge.Concatenate object at 0x7f20148ea990>, <keras.layers.normalization.batch_normalization.BatchNormalization object at 0x7f20148ee550>, <keras.layers.core.Activation object at 0x7f20148f2450>, <keras.layers.convolutional.Conv2D object at 0x7f20148f29d0>, <keras.layers.normalization.batch_normalization.BatchNormalization object at 0x7f20148f8190>, <keras.layers.core.Activation object at 0x7f2014901110>, <keras.layers.convolutional.Conv2D object at 0x7f2014901610>, <keras.layers.merge.Concatenate object at 0x7f20149059d0>, <keras.layers.normalization.batch_normalization.BatchNormalization object at 0x7f2014909590>, <keras.layers.core.Activation object at 0x7f201490d3d0>, <keras.layers.convolutional.Conv2D object at 0x7f201490da10>, <keras.layers.normalization.batch_normalization.BatchNormalization object at 0x7f20149161d0>, <keras.layers.core.Activation object at 0x7f201491d0d0>, <keras.layers.convolutional.Conv2D object at 0x7f201491d650>, <keras.layers.merge.Concatenate object at 0x7f2014920a10>, <keras.layers.normalization.batch_normalization.BatchNormalization object at 0x7f20148a35d0>, <keras.layers.core.Activation object at 0x7f20148a7410>, <keras.layers.convolutional.Conv2D object at 0x7f20148a7a50>, <keras.layers.normalization.batch_normalization.BatchNormalization object at 0x7f20148b0210>, <keras.layers.core.Activation object at 0x7f20148b5110>, <keras.layers.convolutional.Conv2D object at 0x7f20148b5690>, <keras.layers.merge.Concatenate object at 0x7f20148baa50>, <keras.layers.normalization.batch_normalization.BatchNormalization object at 0x7f20148bf610>, <keras.layers.core.Activation object at 0x7f20148c3450>, <keras.layers.convolutional.Conv2D object at 0x7f20148c3a90>, <keras.layers.normalization.batch_normalization.BatchNormalization object at 0x7f20148cb250>, <keras.layers.core.Activation object at 0x7f20148cf050>, <keras.layers.convolutional.Conv2D object at 0x7f20148cf6d0>, <keras.layers.merge.Concatenate object at 0x7f20148d3a90>, <keras.layers.normalization.batch_normalization.BatchNormalization object at 0x7f20148d9650>, <keras.layers.core.Activation object at 0x7f20148de490>, <keras.layers.convolutional.Conv2D object at 0x7f20148dead0>, <keras.layers.normalization.batch_normalization.BatchNormalization object at 0x7f2014866290>, <keras.layers.core.Activation object at 0x7f201486a0d0>, <keras.layers.convolutional.Conv2D object at 0x7f201486a710>, <keras.layers.merge.Concatenate object at 0x7f201486fad0>, <keras.layers.normalization.batch_normalization.BatchNormalization object at 0x7f2014873690>, <keras.layers.core.Activation object at 0x7f20148764d0>, <keras.layers.convolutional.Conv2D object at 0x7f2014876b10>, <keras.layers.normalization.batch_normalization.BatchNormalization object at 0x7f20148812d0>, <keras.layers.core.Activation object at 0x7f2014884110>, <keras.layers.convolutional.Conv2D object at 0x7f2014884750>, <keras.layers.merge.Concatenate object at 0x7f2014889b10>, <keras.layers.normalization.batch_normalization.BatchNormalization object at 0x7f201488a6d0>, <keras.layers.core.Activation object at 0x7f2014893510>, <keras.layers.convolutional.Conv2D object at 0x7f2014893b50>, <keras.layers.normalization.batch_normalization.BatchNormalization object at 0x7f201489a310>, <keras.layers.core.Activation object at 0x7f20148a0150>, <keras.layers.convolutional.Conv2D object at 0x7f20148a0790>, <keras.layers.merge.Concatenate object at 0x7f2014824b50>, <keras.layers.normalization.batch_normalization.BatchNormalization object at 0x7f2014828710>, <keras.layers.core.Activation object at 0x7f201482c350>, <keras.layers.convolutional.Conv2D object at 0x7f201482cb90>, <keras.layers.normalization.batch_normalization.BatchNormalization object at 0x7f2014836350>, <keras.layers.core.Activation object at 0x7f201483b190>, <keras.layers.convolutional.Conv2D object at 0x7f201483b7d0>, <keras.layers.merge.Concatenate object at 0x7f201483fb90>, <keras.layers.normalization.batch_normalization.BatchNormalization object at 0x7f2014840750>, <keras.layers.core.Activation object at 0x7f201484a390>, <keras.layers.convolutional.Conv2D object at 0x7f201484abd0>, <keras.layers.normalization.batch_normalization.BatchNormalization object at 0x7f2014853390>, <keras.layers.core.Activation object at 0x7f20148581d0>, <keras.layers.convolutional.Conv2D object at 0x7f2014858810>, <keras.layers.merge.Concatenate object at 0x7f201485ebd0>, <keras.layers.normalization.batch_normalization.BatchNormalization object at 0x7f2014861790>, <keras.layers.core.Activation object at 0x7f20147e65d0>, <keras.layers.convolutional.Conv2D object at 0x7f20147e6c10>, <keras.layers.normalization.batch_normalization.BatchNormalization object at 0x7f20147f03d0>, <keras.layers.core.Activation object at 0x7f20147f7210>, <keras.layers.convolutional.Conv2D object at 0x7f20147f7850>, <keras.layers.merge.Concatenate object at 0x7f20147fabd0>, <keras.layers.normalization.batch_normalization.BatchNormalization object at 0x7f20147fe790>, <keras.layers.core.Activation object at 0x7f2014805610>, <keras.layers.convolutional.Conv2D object at 0x7f2014805c50>, <keras.layers.normalization.batch_normalization.BatchNormalization object at 0x7f2014805790>, <keras.layers.core.Activation object at 0x7f2014813310>, <keras.layers.convolutional.Conv2D object at 0x7f2014813890>, <keras.layers.merge.Concatenate object at 0x7f2014817c50>, <keras.layers.normalization.batch_normalization.BatchNormalization object at 0x7f201481c810>, <keras.layers.core.Activation object at 0x7f2014820450>, <keras.layers.convolutional.Conv2D object at 0x7f2014820c90>, <keras.layers.normalization.batch_normalization.BatchNormalization object at 0x7f20147ab450>, <keras.layers.core.Activation object at 0x7f20147b0290>, <keras.layers.convolutional.Conv2D object at 0x7f20147b08d0>, <keras.layers.merge.Concatenate object at 0x7f20147b5c90>, <keras.layers.normalization.batch_normalization.BatchNormalization object at 0x7f20147b9850>, <keras.layers.core.Activation object at 0x7f20147bc690>, <keras.layers.convolutional.Conv2D object at 0x7f20147bccd0>, <keras.layers.normalization.batch_normalization.BatchNormalization object at 0x7f20147c7490>, <keras.layers.core.Activation object at 0x7f20147cb2d0>, <keras.layers.convolutional.Conv2D object at 0x7f20147cb910>, <keras.layers.merge.Concatenate object at 0x7f20147d0cd0>, <keras.layers.normalization.batch_normalization.BatchNormalization object at 0x7f20147d7890>, <keras.layers.core.Activation object at 0x7f20147db6d0>, <keras.layers.convolutional.Conv2D object at 0x7f20147dbd10>, <keras.layers.normalization.batch_normalization.BatchNormalization object at 0x7f20147654d0>, <keras.layers.core.Activation object at 0x7f201476b150>, <keras.layers.convolutional.Conv2D object at 0x7f201476b910>, <keras.layers.merge.Concatenate object at 0x7f2014770d10>, <keras.layers.normalization.batch_normalization.BatchNormalization object at 0x7f20147748d0>, <keras.layers.core.Activation object at 0x7f2014778710>, <keras.layers.convolutional.Conv2D object at 0x7f2014778d50>, <keras.layers.normalization.batch_normalization.BatchNormalization object at 0x7f2014781510>, <keras.layers.core.Activation object at 0x7f2014785350>, <keras.layers.convolutional.Conv2D object at 0x7f2014785990>, <keras.layers.merge.Concatenate object at 0x7f201478ad50>, <keras.layers.normalization.batch_normalization.BatchNormalization object at 0x7f201478f910>, <keras.layers.core.Activation object at 0x7f2014794750>, <keras.layers.convolutional.Conv2D object at 0x7f2014794d90>, <keras.layers.normalization.batch_normalization.BatchNormalization object at 0x7f201479d550>, <keras.layers.core.Activation object at 0x7f2014723390>, <keras.layers.convolutional.Conv2D object at 0x7f2014723990>, <keras.layers.merge.Concatenate object at 0x7f2014728d90>, <keras.layers.normalization.batch_normalization.BatchNormalization object at 0x7f201472c950>, <keras.layers.core.Activation object at 0x7f2014732790>, <keras.layers.convolutional.Conv2D object at 0x7f2014732dd0>, <keras.layers.normalization.batch_normalization.BatchNormalization object at 0x7f201473a590>, <keras.layers.core.Activation object at 0x7f20147403d0>, <keras.layers.convolutional.Conv2D object at 0x7f2014740a10>, <keras.layers.merge.Concatenate object at 0x7f2014743dd0>, <keras.layers.normalization.batch_normalization.BatchNormalization object at 0x7f2014747990>, <keras.layers.core.Activation object at 0x7f201474e7d0>, <keras.layers.convolutional.Conv2D object at 0x7f201474ee10>, <keras.layers.normalization.batch_normalization.BatchNormalization object at 0x7f20147585d0>, <keras.layers.core.Activation object at 0x7f201475c410>, <keras.layers.convolutional.Conv2D object at 0x7f201475ca50>, <keras.layers.merge.Concatenate object at 0x7f20146e2e10>, <keras.layers.normalization.batch_normalization.BatchNormalization object at 0x7f20146e89d0>, <keras.layers.core.Activation object at 0x7f20146ec610>, <keras.layers.convolutional.Conv2D object at 0x7f20146ece50>, <keras.layers.normalization.batch_normalization.BatchNormalization object at 0x7f20146f55d0>, <keras.layers.core.Activation object at 0x7f20146f9450>, <keras.layers.convolutional.Conv2D object at 0x7f20146f9a90>, <keras.layers.merge.Concatenate object at 0x7f20146fee50>, <keras.layers.normalization.batch_normalization.BatchNormalization object at 0x7f2014703a10>, <keras.layers.core.Activation object at 0x7f2014709850>, <keras.layers.convolutional.Conv2D object at 0x7f2014709e90>, <keras.layers.normalization.batch_normalization.BatchNormalization object at 0x7f2014710650>, <keras.layers.core.Activation object at 0x7f2014715290>, <keras.layers.convolutional.Conv2D object at 0x7f2014715ad0>, <keras.layers.merge.Concatenate object at 0x7f201471be90>, <keras.layers.normalization.batch_normalization.BatchNormalization object at 0x7f2014720a50>, <keras.layers.core.Activation object at 0x7f20146a63d0>, <keras.layers.convolutional.Conv2D object at 0x7f20146a6e90>, <keras.layers.normalization.batch_normalization.BatchNormalization object at 0x7f20146ac690>, <keras.layers.core.Activation object at 0x7f20146b34d0>, <keras.layers.convolutional.Conv2D object at 0x7f20146b3ad0>, <keras.layers.merge.Concatenate object at 0x7f20146b7ed0>, <keras.layers.normalization.batch_normalization.BatchNormalization object at 0x7f20146bba90>, <keras.layers.core.Activation object at 0x7f20146c28d0>, <keras.layers.convolutional.Conv2D object at 0x7f20146c2f10>, <keras.layers.normalization.batch_normalization.BatchNormalization object at 0x7f20146cb6d0>, <keras.layers.core.Activation object at 0x7f20146d0510>, <keras.layers.convolutional.Conv2D object at 0x7f20146d0b50>, <keras.layers.merge.Concatenate object at 0x7f20146d6f10>, <keras.layers.normalization.batch_normalization.BatchNormalization object at 0x7f20146daa90>, <keras.layers.core.Activation object at 0x7f20146df910>, <keras.layers.convolutional.Conv2D object at 0x7f20146dff50>, <keras.layers.normalization.batch_normalization.BatchNormalization object at 0x7f2014669710>, <keras.layers.core.Activation object at 0x7f201466f550>, <keras.layers.convolutional.Conv2D object at 0x7f201466fb50>, <keras.layers.merge.Concatenate object at 0x7f2014670f50>, <keras.layers.normalization.batch_normalization.BatchNormalization object at 0x7f2014678b90>, <keras.layers.core.Activation object at 0x7f201467ebd0>, <keras.layers.convolutional.Conv2D object at 0x7f20146841d0>, <keras.layers.pooling.AveragePooling2D object at 0x7f20146865d0>, <keras.layers.normalization.batch_normalization.BatchNormalization object at 0x7f201468a490>, <keras.layers.core.Activation object at 0x7f201468e2d0>, <keras.layers.convolutional.Conv2D object at 0x7f201468e910>, <keras.layers.normalization.batch_normalization.BatchNormalization object at 0x7f20146980d0>, <keras.layers.core.Activation object at 0x7f2014692bd0>, <keras.layers.convolutional.Conv2D object at 0x7f201469e550>, <keras.layers.merge.Concatenate object at 0x7f2014622950>, <keras.layers.normalization.batch_normalization.BatchNormalization object at 0x7f2014627510>, <keras.layers.core.Activation object at 0x7f201462d350>, <keras.layers.convolutional.Conv2D object at 0x7f201462d990>, <keras.layers.normalization.batch_normalization.BatchNormalization object at 0x7f2014636150>, <keras.layers.core.Activation object at 0x7f201463b050>, <keras.layers.convolutional.Conv2D object at 0x7f201463b5d0>, <keras.layers.merge.Concatenate object at 0x7f201463e990>, <keras.layers.normalization.batch_normalization.BatchNormalization object at 0x7f2014643550>, <keras.layers.core.Activation object at 0x7f2014648390>, <keras.layers.convolutional.Conv2D object at 0x7f20146489d0>, <keras.layers.normalization.batch_normalization.BatchNormalization object at 0x7f2014652190>, <keras.layers.core.Activation object at 0x7f201465b090>, <keras.layers.convolutional.Conv2D object at 0x7f201465b5d0>, <keras.layers.merge.Concatenate object at 0x7f201465e9d0>, <keras.layers.normalization.batch_normalization.BatchNormalization object at 0x7f20145e2590>, <keras.layers.core.Activation object at 0x7f20145e63d0>, <keras.layers.convolutional.Conv2D object at 0x7f20145e69d0>, <keras.layers.normalization.batch_normalization.BatchNormalization object at 0x7f20145f11d0>, <keras.layers.core.Activation object at 0x7f20145f5150>, <keras.layers.convolutional.Conv2D object at 0x7f20145f5650>, <keras.layers.merge.Concatenate object at 0x7f20145faa10>, <keras.layers.normalization.batch_normalization.BatchNormalization object at 0x7f20145fe5d0>, <keras.layers.core.Activation object at 0x7f2014602410>, <keras.layers.convolutional.Conv2D object at 0x7f2014602a50>, <keras.layers.normalization.batch_normalization.BatchNormalization object at 0x7f201460b210>, <keras.layers.core.Activation object at 0x7f2014614090>, <keras.layers.convolutional.Conv2D object at 0x7f2014614690>, <keras.layers.merge.Concatenate object at 0x7f2014619a50>, <keras.layers.normalization.batch_normalization.BatchNormalization object at 0x7f201461c610>, <keras.layers.core.Activation object at 0x7f2014620450>, <keras.layers.convolutional.Conv2D object at 0x7f2014620a90>, <keras.layers.normalization.batch_normalization.BatchNormalization object at 0x7f20145ab250>, <keras.layers.core.Activation object at 0x7f20145b0150>, <keras.layers.convolutional.Conv2D object at 0x7f20145b06d0>, <keras.layers.merge.Concatenate object at 0x7f20145b5a90>, <keras.layers.normalization.batch_normalization.BatchNormalization object at 0x7f20145b8650>, <keras.layers.core.Activation object at 0x7f20145bd490>, <keras.layers.convolutional.Conv2D object at 0x7f20145bdad0>, <keras.layers.normalization.batch_normalization.BatchNormalization object at 0x7f20145c7290>, <keras.layers.core.Activation object at 0x7f20145ce0d0>, <keras.layers.convolutional.Conv2D object at 0x7f20145ce710>, <keras.layers.merge.Concatenate object at 0x7f20145d2ad0>, <keras.layers.normalization.batch_normalization.BatchNormalization object at 0x7f20145d7690>, <keras.layers.core.Activation object at 0x7f20145dc2d0>, <keras.layers.convolutional.Conv2D object at 0x7f20145dcb10>, <keras.layers.normalization.batch_normalization.BatchNormalization object at 0x7f20145652d0>, <keras.layers.core.Activation object at 0x7f201456b110>, <keras.layers.convolutional.Conv2D object at 0x7f201456b750>, <keras.layers.merge.Concatenate object at 0x7f201456fb10>, <keras.layers.normalization.batch_normalization.BatchNormalization object at 0x7f20145726d0>, <keras.layers.core.Activation object at 0x7f2014579510>, <keras.layers.convolutional.Conv2D object at 0x7f2014579b50>, <keras.layers.normalization.batch_normalization.BatchNormalization object at 0x7f2014583310>, <keras.layers.core.Activation object at 0x7f2014589150>, <keras.layers.convolutional.Conv2D object at 0x7f2014589790>, <keras.layers.merge.Concatenate object at 0x7f201458fb50>, <keras.layers.normalization.batch_normalization.BatchNormalization object at 0x7f2014592710>, <keras.layers.core.Activation object at 0x7f2014596550>, <keras.layers.convolutional.Conv2D object at 0x7f2014596b90>, <keras.layers.normalization.batch_normalization.BatchNormalization object at 0x7f20145a0350>, <keras.layers.core.Activation object at 0x7f2014524190>, <keras.layers.convolutional.Conv2D object at 0x7f20145247d0>, <keras.layers.merge.Concatenate object at 0x7f2014529b90>, <keras.layers.normalization.batch_normalization.BatchNormalization object at 0x7f201452d750>, <keras.layers.core.Activation object at 0x7f2014533590>, <keras.layers.convolutional.Conv2D object at 0x7f2014533bd0>, <keras.layers.normalization.batch_normalization.BatchNormalization object at 0x7f201453c390>, <keras.layers.core.Activation object at 0x7f2014541290>, <keras.layers.convolutional.Conv2D object at 0x7f20145417d0>, <keras.layers.merge.Concatenate object at 0x7f2014546bd0>, <keras.layers.normalization.batch_normalization.BatchNormalization object at 0x7f2014549790>, <keras.layers.core.Activation object at 0x7f20145505d0>, <keras.layers.convolutional.Conv2D object at 0x7f2014550c10>, <keras.layers.normalization.batch_normalization.BatchNormalization object at 0x7f201455b3d0>, <keras.layers.core.Activation object at 0x7f2014561210>, <keras.layers.convolutional.Conv2D object at 0x7f2014561850>, <keras.layers.merge.Concatenate object at 0x7f20144e6c10>, <keras.layers.normalization.batch_normalization.BatchNormalization object at 0x7f20144e6bd0>, <keras.layers.core.Activation object at 0x7f20144ef410>, <keras.layers.convolutional.Conv2D object at 0x7f20144efc50>, <keras.layers.normalization.batch_normalization.BatchNormalization object at 0x7f20144f9410>, <keras.layers.core.Activation object at 0x7f20144fd250>, <keras.layers.convolutional.Conv2D object at 0x7f20144fd890>, <keras.layers.merge.Concatenate object at 0x7f2014502c50>, <keras.layers.normalization.batch_normalization.BatchNormalization object at 0x7f2014507810>, <keras.layers.core.Activation object at 0x7f201450b650>, <keras.layers.convolutional.Conv2D object at 0x7f201450bc90>, <keras.layers.normalization.batch_normalization.BatchNormalization object at 0x7f2014515450>, <keras.layers.core.Activation object at 0x7f201451a290>, <keras.layers.convolutional.Conv2D object at 0x7f201451a8d0>, <keras.layers.merge.Concatenate object at 0x7f201451fc90>, <keras.layers.normalization.batch_normalization.BatchNormalization object at 0x7f20144a3850>, <keras.layers.core.Activation object at 0x7f20144a9690>, <keras.layers.convolutional.Conv2D object at 0x7f20144a9c90>, <keras.layers.normalization.batch_normalization.BatchNormalization object at 0x7f20144b4490>, <keras.layers.core.Activation object at 0x7f20144b82d0>, <keras.layers.convolutional.Conv2D object at 0x7f20144b8910>, <keras.layers.merge.Concatenate object at 0x7f20144bbcd0>, <keras.layers.normalization.batch_normalization.BatchNormalization object at 0x7f20144c1890>, <keras.layers.core.Activation object at 0x7f20144c86d0>, <keras.layers.convolutional.Conv2D object at 0x7f20144c8d10>, <keras.layers.normalization.batch_normalization.BatchNormalization object at 0x7f20144d34d0>, <keras.layers.core.Activation object at 0x7f20144d9310>, <keras.layers.convolutional.Conv2D object at 0x7f20144d9950>, <keras.layers.merge.Concatenate object at 0x7f20144ddd10>, <keras.layers.normalization.batch_normalization.BatchNormalization object at 0x7f2014462950>, <keras.layers.core.Activation object at 0x7f2014466750>, <keras.layers.pooling.GlobalAveragePooling2D object at 0x7f201446a1d0>]"
     ]
    }
   ],
   "source": [
    "## Note this doesn't work YET because of the whole keras != tf.keras thing\n",
    "\n",
    "def load_chexnet(output_dim, mode=0):\n",
    "    \"\"\"\n",
    "    output_dim: dimension of output (either for prediction or embedding dim)\n",
    "    mode: prediction (0), nearest neighbours (1)\n",
    "    \"\"\"\n",
    "    \n",
    "    base_model_old = tf.keras.models.load_model('chexnet')\n",
    "    base_model = base_model_old.layers[:-1] ## remove old prediction layer\n",
    "    \n",
    "    ## The prediction/embedding head can be more complicated if you want\n",
    "    if mode == 0: ## prediction\n",
    "        chexnet = tf.keras.Sequential([base_model,\n",
    "                                       tf.keras.layers.Dense(output_dim, activation='softmax'),\n",
    "                                      ])\n",
    "        \n",
    "    else: ## nearest neighbours -- get embedding\n",
    "        chexnet = tf.keras.Sequential([base_model,\n",
    "                                       tf.keras.layers.Dense(output_dim),\n",
    "                                      ])\n",
    "    \n",
    "    return chexnet\n",
    "\n",
    "chexnet = load_chexnet(20)\n",
    "print(chexnet.summary())"
   ]
  }
 ],
 "metadata": {
  "kernelspec": {
   "display_name": "Python 3",
   "language": "python",
   "name": "python3"
  },
  "language_info": {
   "codemirror_mode": {
    "name": "ipython",
    "version": 3
   },
   "file_extension": ".py",
   "mimetype": "text/x-python",
   "name": "python",
   "nbconvert_exporter": "python",
   "pygments_lexer": "ipython3",
   "version": "3.7.10"
  }
 },
 "nbformat": 4,
 "nbformat_minor": 5
}
