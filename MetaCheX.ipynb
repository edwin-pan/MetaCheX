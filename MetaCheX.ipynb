{
 "cells": [
  {
   "cell_type": "markdown",
   "id": "062cf5ef",
   "metadata": {},
   "source": [
    "# MetaCheX"
   ]
  },
  {
   "cell_type": "markdown",
   "id": "31216ee6",
   "metadata": {},
   "source": [
    "## Step 1: Data Pre-processing"
   ]
  },
  {
   "cell_type": "code",
   "execution_count": 30,
   "id": "3640ee59",
   "metadata": {},
   "outputs": [],
   "source": [
    "import pandas as pd\n",
    "import numpy as np\n",
    "import matplotlib.pyplot as plt\n",
    "import random\n",
    "import os\n",
    "import cv2\n",
    "from tensorflow.keras.preprocessing.image import ImageDataGenerator, array_to_img, img_to_array, load_img\n",
    "import tensorflow as tf\n",
    "from glob import glob\n",
    "from keras.utils.np_utils import to_categorical   \n",
    "from imblearn.over_sampling import RandomOverSampler\n",
    "from sklearn.metrics import roc_curve\n",
    "\n",
    "PATH_TO_DATA_FOLDER = './data'\n",
    "NIH_IMAGES = 'nih/images'\n",
    "NIH_METADATA_PATH = 'nih/Data_Entry_2017.csv'\n",
    "COVID_19_RADIOGRAPHY_IMAGES = 'COVID-19_Radiography_Dataset/images' ## note labels are in the filenames\n",
    "COVID_CHESTXRAY_IMAGES = 'covid-chestxray-dataset/images'\n",
    "COVID_CHESTXRAY_METADATA_PATH = 'covid-chestxray-dataset/metadata.csv'"
   ]
  },
  {
   "cell_type": "markdown",
   "id": "92d96e46",
   "metadata": {},
   "source": [
    "If labels.csv exists, read from it.\n",
    "\n",
    "Otherwise, extract filenames and labels for:\n",
    "- ChestX-ray14 (NIH) dataset\n",
    "- COVID-19 Radiography Dataset\n",
    "- covid-chestxray-dataset\n",
    "\n",
    "and put in labels.csv"
   ]
  },
  {
   "cell_type": "code",
   "execution_count": 2,
   "id": "901c76b7",
   "metadata": {},
   "outputs": [
    {
     "name": "stdout",
     "output_type": "stream",
     "text": [
      "                           image_path                          label  \\\n",
      "0  ./data/nih/images/00000001_000.png               ['Cardiomegaly']   \n",
      "1  ./data/nih/images/00000001_001.png  ['Cardiomegaly', 'Emphysema']   \n",
      "2  ./data/nih/images/00000001_002.png   ['Cardiomegaly', 'Effusion']   \n",
      "3  ./data/nih/images/00000002_000.png                 ['No Finding']   \n",
      "4  ./data/nih/images/00000003_000.png                     ['Hernia']   \n",
      "5  ./data/nih/images/00000003_001.png                     ['Hernia']   \n",
      "6  ./data/nih/images/00000003_002.png                     ['Hernia']   \n",
      "7  ./data/nih/images/00000003_003.png     ['Hernia', 'Infiltration']   \n",
      "8  ./data/nih/images/00000003_004.png                     ['Hernia']   \n",
      "9  ./data/nih/images/00000003_005.png                     ['Hernia']   \n",
      "\n",
      "   label_num  \n",
      "0        416  \n",
      "1        390  \n",
      "2        388  \n",
      "3        827  \n",
      "4        777  \n",
      "5        777  \n",
      "6        777  \n",
      "7        772  \n",
      "8        777  \n",
      "9        777  \n"
     ]
    }
   ],
   "source": [
    "labels_path = os.path.join(PATH_TO_DATA_FOLDER, 'labels.csv')\n",
    "if os.path.isfile(labels_path): ## path exists\n",
    "    df = pd.read_csv(labels_path)\n",
    "    df['label_num'] = df.groupby(['label']).ngroup()\n",
    "    df['label'] = df['label'].apply(lambda x: x[1:-1].split(', ')) ## convert to list of str\n",
    "else:\n",
    "    df = pd.DataFrame(columns=['image_path', 'label'])\n",
    "\n",
    "    ## NIH\n",
    "    full_path = os.path.join(PATH_TO_DATA_FOLDER, NIH_METADATA_PATH)\n",
    "    df_nih = pd.read_csv(full_path)[['Image Index', 'Finding Labels']]\n",
    "    df_nih.rename(columns={'Image Index': 'image_path', 'Finding Labels': 'label'}, inplace=True)\n",
    "    df_nih['label'] = df_nih['label'].str.split('|')\n",
    "    df_nih['image_path'] = PATH_TO_DATA_FOLDER + '/' + NIH_IMAGES + '/' + df_nih['image_path']\n",
    "    df = df.append(df_nih)\n",
    "\n",
    "    ## COVID_CHESTXRAY\n",
    "    full_path = os.path.join(PATH_TO_DATA_FOLDER, COVID_CHESTXRAY_METADATA_PATH)\n",
    "    df_cc = pd.read_csv(full_path)[['filename', 'finding']]\n",
    "    df_cc.rename(columns={'filename': 'image_path', 'finding': 'label'}, inplace=True)\n",
    "    df_cc = df_cc.drop(df_cc[(df_cc['label'] == 'todo') | (df_cc['label'] == 'Unknown')].index).reset_index(drop=True)\n",
    "    df_cc['label'] = df_cc['label'].str.split('/')\n",
    "    ## Remove the label after 'Pneumonia' that specifies type of pneumonia if given\n",
    "    for i in range(df_cc.shape[0]):\n",
    "        label = df_cc.at[i, 'label']\n",
    "        if 'Pneumonia' in label and len(label) > 1:\n",
    "            p_idx = label.index('Pneumonia')\n",
    "            label.pop(p_idx + 1)\n",
    "            #sort the labels to be in alphabetical order\n",
    "            df_cc.at[i, 'label'] = sorted(label)\n",
    "\n",
    "    df_cc['image_path'] = PATH_TO_DATA_FOLDER + '/' + COVID_CHESTXRAY_IMAGES + '/' + df_cc['image_path']\n",
    "    df = df.append(df_cc)\n",
    "\n",
    "    ## COVID-19 Radiography\n",
    "    full_path = os.path.join(PATH_TO_DATA_FOLDER, COVID_19_RADIOGRAPHY_IMAGES)\n",
    "    df_cr = pd.DataFrame(columns=['image_path', 'label'])\n",
    "    image_lst = sorted(list(glob(f\"{full_path}/*\"))) ## gets list of all image filepaths\n",
    "    label_arr = np.array([f[f.rindex('/') + 1:f.rindex('-')] for f in image_lst])\n",
    "    label_arr = np.where(label_arr == 'COVID', 'COVID-19', label_arr) ## replace COVID with COVID-19 for consistency\n",
    "    label_arr = np.where(label_arr == 'Viral Pneumonia', 'Pneumonia', label_arr)\n",
    "    label_arr = np.where(label_arr == 'Normal', 'No Finding', label_arr) ## replace 'Normal' with 'No Finding'\n",
    "    df_cr['image_path'] = image_lst\n",
    "    df_cr['label'] = label_arr\n",
    "    df_cr['label'] = df_cr['label'].str.split(pat='.') ## makes each label a list (random sep so that no split on space)\n",
    "    df = df.append(df_cr)\n",
    "\n",
    "    df = df.reset_index(drop=True)\n",
    "    df.to_csv(labels_path, index=False)\n",
    "    \n",
    "    ## Reads in the new csv and adds label_num col (requires label to be str rather than list of str)\n",
    "    df = pd.read_csv(labels_path)\n",
    "    df['label_num'] = df.groupby(['label']).ngroup()\n",
    "    df['label'] = df['label'].apply(lambda x: x[1:-1].split(', ')) ## convert to list of str\n",
    "    \n",
    "print(df.head(10))"
   ]
  },
  {
   "cell_type": "markdown",
   "id": "1f54466b",
   "metadata": {},
   "source": [
    "Get stats on the data: \n",
    "- Number of images with each label (individual)\n",
    "- Number of unique labels (individual)\n",
    "- Number of labels total (including combos)"
   ]
  },
  {
   "cell_type": "code",
   "execution_count": 3,
   "id": "e9b53eaa",
   "metadata": {},
   "outputs": [
    {
     "name": "stdout",
     "output_type": "stream",
     "text": [
      "Number of total images:  164298\n",
      "Number of total individual labels:  35\n",
      "Number of total label combos (includes individual labels):  856\n",
      "****************************\n",
      "Number of images with each individual label (Top 20)\n",
      "                      count\n",
      "'No Finding'          70575\n",
      "'Infiltration'        19894\n",
      "'Effusion'            13317\n",
      "'Atelectasis'         11559\n",
      "'Nodule'               6331\n",
      "'Lung_Opacity'         6012\n",
      "'Mass'                 5782\n",
      "'Pneumothorax'         5302\n",
      "'Consolidation'        4667\n",
      "'COVID-19'             4200\n",
      "'Pneumonia'            3602\n",
      "'Pleural_Thickening'   3385\n",
      "'Cardiomegaly'         2776\n",
      "'Emphysema'            2516\n",
      "'Edema'                2303\n",
      "'Fibrosis'             1686\n",
      "'Hernia'                227\n",
      "'Pneumocystis'           30\n",
      "'Streptococcus'          22\n",
      "'Tuberculosis'           18\n",
      "\n",
      "\n",
      "Number of images with each combo label (Top 20)\n",
      "                                             count\n",
      "('No Finding',)                              70575\n",
      "('Infiltration',)                             9547\n",
      "('Lung_Opacity',)                             6012\n",
      "('Atelectasis',)                              4215\n",
      "('Effusion',)                                 3955\n",
      "('COVID-19',)                                 3616\n",
      "('Nodule',)                                   2705\n",
      "('Pneumothorax',)                             2194\n",
      "('Mass',)                                     2139\n",
      "('Pneumonia',)                                1766\n",
      "('Effusion', 'Infiltration')                  1603\n",
      "('Atelectasis', 'Infiltration')               1350\n",
      "('Consolidation',)                            1310\n",
      "('Atelectasis', 'Effusion')                   1165\n",
      "('Pleural_Thickening',)                       1126\n",
      "('Cardiomegaly',)                             1093\n",
      "('Emphysema',)                                 892\n",
      "('Infiltration', 'Nodule')                     829\n",
      "('Atelectasis', 'Effusion', 'Infiltration')    737\n",
      "('Fibrosis',)                                  727\n",
      "\n",
      "\n",
      "  count interval  number of labels\n",
      "0          <= 10               642\n",
      "1      (10, 100]               152\n",
      "2      (100, 1k]                46\n",
      "3      (1k, 10k]                15\n",
      "4          > 10k                 1\n"
     ]
    }
   ],
   "source": [
    "unique_labels_dict = {} ## keys are str\n",
    "unique_combos_dict = {} ## keys are tuples of str\n",
    "for i in range(df.shape[0]):\n",
    "    label = tuple(df.at[i, 'label'])\n",
    "    for l in label:\n",
    "        if l not in unique_labels_dict:\n",
    "            unique_labels_dict[l] = 0\n",
    "        unique_labels_dict[l] += 1\n",
    "    \n",
    "    if label not in unique_combos_dict:\n",
    "        unique_combos_dict[label] = 0\n",
    "    unique_combos_dict[label] += 1\n",
    "\n",
    "df_label_nums = pd.DataFrame.from_dict(unique_labels_dict, orient='index', columns=['count']).sort_values(by=['count'], ascending=False)\n",
    "df_combo_nums = pd.DataFrame.from_dict(unique_combos_dict, orient='index', columns=['count']).sort_values(by=['count'], ascending=False)\n",
    "print(\"Number of total images: \", df_label_nums['count'].sum())\n",
    "print(\"Number of total individual labels: \", df_label_nums.shape[0])\n",
    "print(\"Number of total label combos (includes individual labels): \", df_combo_nums.shape[0])\n",
    "print(\"****************************\")\n",
    "print(\"Number of images with each individual label (Top 20)\")\n",
    "print(df_label_nums.head(20))\n",
    "print(\"\\n\")\n",
    "print(\"Number of images with each combo label (Top 20)\")\n",
    "print(df_combo_nums.head(20))\n",
    "print(\"\\n\")\n",
    "\n",
    "## Get number of labels with number of images in each range\n",
    "## > 10k\n",
    "## 1k - 10k\n",
    "## 100 - 1k\n",
    "## 10 - 100\n",
    "## < 10\n",
    "bins =  np.array([0, 10, 100, 1000, 10000, 100000])\n",
    "df_combo_counts = pd.DataFrame(columns=['count interval', 'number of labels'])\n",
    "df_combo_counts['count interval'] = [\"<= 10\", \"(10, 100]\", \"(100, 1k]\", \"(1k, 10k]\", \"> 10k\"]\n",
    "\n",
    "df_combo_counts['number of labels'] = [df_combo_nums[df_combo_nums['count'] <= 10].size,\n",
    "                               df_combo_nums[(df_combo_nums['count'] > 10) & (df_combo_nums['count'] <= 1e2)].size,\n",
    "                               df_combo_nums[(df_combo_nums['count'] > 1e2) & (df_combo_nums['count'] <= 1e3)].size,\n",
    "                               df_combo_nums[(df_combo_nums['count'] > 1e3) & (df_combo_nums['count'] <= 1e4)].size,\n",
    "                               df_combo_nums[df_combo_nums['count'] > 1e4].size\n",
    "                              ]\n",
    "    \n",
    "print(df_combo_counts.head())\n"
   ]
  },
  {
   "cell_type": "markdown",
   "id": "2fc894ec",
   "metadata": {},
   "source": [
    "### Convert images to fixed-size arrays"
   ]
  },
  {
   "cell_type": "code",
   "execution_count": null,
   "id": "783ef1ef",
   "metadata": {},
   "outputs": [],
   "source": [
    "IMAGE_SIZE = (224, 224)\n",
    "def load_data(df):\n",
    "    \"\"\"\n",
    "    df: DataFrame of image paths, label (list of str) and label num\n",
    "    \"\"\"\n",
    "    image_arrays = []\n",
    "    image_labels = df['label_num'].to_numpy()\n",
    "    for index, row in df.iterrows():\n",
    "        image = load_img(row['image_path'])\n",
    "        image_arr = img_to_array(image)\n",
    "        image_arr_resized = cv2.resize(image_arr, IMAGE_SIZE, interpolation=cv2.INTER_LANCZOS4)\n",
    "        image_arr_norm = image_arr_resized / 255 ## pixels in [0, 255] -- normalize to [0, 1]\n",
    "        image_arrays.append(image_arr_norm)\n",
    "\n",
    "    all_images = np.stack(images)\n",
    "    all_labels = to_categorical(image_labels, num_classes=image_labels.max() + 1) # one-hot\n",
    "    return all_images, all_labels\n",
    "\n",
    "## Preview first image and label\n",
    "all_images, all_labels = load_data(df)\n",
    "plt.imshow(all_images[0])\n",
    "plt.xlabel(all_labels[0])"
   ]
  },
  {
   "cell_type": "markdown",
   "id": "130dfe67",
   "metadata": {},
   "source": [
    "Save the images and labels"
   ]
  },
  {
   "cell_type": "code",
   "execution_count": null,
   "id": "9870c5ad",
   "metadata": {},
   "outputs": [],
   "source": [
    "## Comment this out after running for the first time\n",
    "saved_data_path='saved_data' \n",
    "with open(saved_data_path, 'wb') as f:\n",
    "    np.save(f, all_images)\n",
    "    np.save(f, all_labels)"
   ]
  },
  {
   "cell_type": "markdown",
   "id": "bfb9fc91",
   "metadata": {},
   "source": [
    "Load images and labels"
   ]
  },
  {
   "cell_type": "code",
   "execution_count": null,
   "id": "4b1fad19",
   "metadata": {},
   "outputs": [],
   "source": [
    "saved_data_path='saved_data'\n",
    "with open(saved_data_path, 'rb') as f:\n",
    "    all_images = np.load(f)\n",
    "    all_labels = np.load(f)"
   ]
  },
  {
   "cell_type": "markdown",
   "id": "1f228083",
   "metadata": {},
   "source": [
    "## Step 2: Pre-Trained CheXNet"
   ]
  },
  {
   "cell_type": "code",
   "execution_count": 41,
   "id": "8ae00564",
   "metadata": {},
   "outputs": [
    {
     "name": "stdout",
     "output_type": "stream",
     "text": [
      "WARNING:tensorflow:No training configuration found in the save file, so the model was *not* compiled. Compile it manually.\n"
     ]
    },
    {
     "ename": "TypeError",
     "evalue": "The added layer must be an instance of class Layer. Found: [<keras.engine.input_layer.InputLayer object at 0x7fa334597690>, <keras.layers.convolutional.ZeroPadding2D object at 0x7fa3345b1550>, <keras.layers.convolutional.Conv2D object at 0x7fa3344e0390>, <keras.layers.normalization.batch_normalization.BatchNormalization object at 0x7fa33458db10>, <keras.layers.core.Activation object at 0x7fa3345b1510>, <keras.layers.convolutional.ZeroPadding2D object at 0x7fa3344fd590>, <keras.layers.pooling.MaxPooling2D object at 0x7fa334597d90>, <keras.layers.normalization.batch_normalization.BatchNormalization object at 0x7fa33458dd10>, <keras.layers.core.Activation object at 0x7fa3344b5e50>, <keras.layers.convolutional.Conv2D object at 0x7fa3344c8990>, <keras.layers.normalization.batch_normalization.BatchNormalization object at 0x7fa3344b6cd0>, <keras.layers.core.Activation object at 0x7fa3344ff950>, <keras.layers.convolutional.Conv2D object at 0x7fa3a35e7ed0>, <keras.layers.merge.Concatenate object at 0x7fa33445bed0>, <keras.layers.normalization.batch_normalization.BatchNormalization object at 0x7fa3347c1550>, <keras.layers.core.Activation object at 0x7fa33448c3d0>, <keras.layers.convolutional.Conv2D object at 0x7fa3347c1990>, <keras.layers.normalization.batch_normalization.BatchNormalization object at 0x7fa33458dcd0>, <keras.layers.core.Activation object at 0x7fa3a3610650>, <keras.layers.convolutional.Conv2D object at 0x7fa3a3610750>, <keras.layers.merge.Concatenate object at 0x7fa3a3610d10>, <keras.layers.normalization.batch_normalization.BatchNormalization object at 0x7fa3347c1f90>, <keras.layers.core.Activation object at 0x7fa3a361f610>, <keras.layers.convolutional.Conv2D object at 0x7fa3a361f710>, <keras.layers.normalization.batch_normalization.BatchNormalization object at 0x7fa3a361fd10>, <keras.layers.core.Activation object at 0x7fa3a3610fd0>, <keras.layers.convolutional.Conv2D object at 0x7fa3a36323d0>, <keras.layers.merge.Concatenate object at 0x7fa3a3632550>, <keras.layers.normalization.batch_normalization.BatchNormalization object at 0x7fa3a3632bd0>, <keras.layers.core.Activation object at 0x7fa3a361ffd0>, <keras.layers.convolutional.Conv2D object at 0x7fa3a36334d0>, <keras.layers.normalization.batch_normalization.BatchNormalization object at 0x7fa3a3632c90>, <keras.layers.core.Activation object at 0x7fa39ade0a10>, <keras.layers.convolutional.Conv2D object at 0x7fa3a3629210>, <keras.layers.merge.Concatenate object at 0x7fa3a36297d0>, <keras.layers.normalization.batch_normalization.BatchNormalization object at 0x7fa3a3633fd0>, <keras.layers.core.Activation object at 0x7fa335a1b450>, <keras.layers.convolutional.Conv2D object at 0x7fa3a3624150>, <keras.layers.normalization.batch_normalization.BatchNormalization object at 0x7fa3a3624750>, <keras.layers.core.Activation object at 0x7fa3a3624dd0>, <keras.layers.convolutional.Conv2D object at 0x7fa3a3624ed0>, <keras.layers.merge.Concatenate object at 0x7fa3a361e650>, <keras.layers.normalization.batch_normalization.BatchNormalization object at 0x7fa3a361eb10>, <keras.layers.core.Activation object at 0x7fa3a361ee90>, <keras.layers.convolutional.Conv2D object at 0x7fa3a361e810>, <keras.layers.normalization.batch_normalization.BatchNormalization object at 0x7fa3a35fd510>, <keras.layers.core.Activation object at 0x7fa3a35fdb90>, <keras.layers.convolutional.Conv2D object at 0x7fa3a35fdc90>, <keras.layers.merge.Concatenate object at 0x7fa3347872d0>, <keras.layers.normalization.batch_normalization.BatchNormalization object at 0x7fa334787650>, <keras.layers.core.Activation object at 0x7fa334787b90>, <keras.layers.convolutional.Conv2D object at 0x7fa334787c90>, <keras.layers.pooling.AveragePooling2D object at 0x7fa3347822d0>, <keras.layers.normalization.batch_normalization.BatchNormalization object at 0x7fa334782850>, <keras.layers.core.Activation object at 0x7fa334782cd0>, <keras.layers.convolutional.Conv2D object at 0x7fa334782dd0>, <keras.layers.normalization.batch_normalization.BatchNormalization object at 0x7fa334781410>, <keras.layers.core.Activation object at 0x7fa334781a90>, <keras.layers.convolutional.Conv2D object at 0x7fa334781b90>, <keras.layers.merge.Concatenate object at 0x7fa33474b1d0>, <keras.layers.normalization.batch_normalization.BatchNormalization object at 0x7fa33474b550>, <keras.layers.core.Activation object at 0x7fa33474ba90>, <keras.layers.convolutional.Conv2D object at 0x7fa33474bb90>, <keras.layers.normalization.batch_normalization.BatchNormalization object at 0x7fa3347541d0>, <keras.layers.core.Activation object at 0x7fa334754850>, <keras.layers.convolutional.Conv2D object at 0x7fa3a3629fd0>, <keras.layers.merge.Concatenate object at 0x7fa3a2be79d0>, <keras.layers.normalization.batch_normalization.BatchNormalization object at 0x7fa3347592d0>, <keras.layers.core.Activation object at 0x7fa334759810>, <keras.layers.convolutional.Conv2D object at 0x7fa334759910>, <keras.layers.normalization.batch_normalization.BatchNormalization object at 0x7fa334754f10>, <keras.layers.core.Activation object at 0x7fa334762110>, <keras.layers.convolutional.Conv2D object at 0x7fa3347627d0>, <keras.layers.merge.Concatenate object at 0x7fa334762c10>, <keras.layers.normalization.batch_normalization.BatchNormalization object at 0x7fa334762290>, <keras.layers.core.Activation object at 0x7fa3347655d0>, <keras.layers.convolutional.Conv2D object at 0x7fa3347656d0>, <keras.layers.normalization.batch_normalization.BatchNormalization object at 0x7fa334765cd0>, <keras.layers.core.Activation object at 0x7fa334759f10>, <keras.layers.convolutional.Conv2D object at 0x7fa33476c490>, <keras.layers.merge.Concatenate object at 0x7fa33476ca90>, <keras.layers.normalization.batch_normalization.BatchNormalization object at 0x7fa33476ce10>, <keras.layers.core.Activation object at 0x7fa334765f90>, <keras.layers.convolutional.Conv2D object at 0x7fa334774490>, <keras.layers.normalization.batch_normalization.BatchNormalization object at 0x7fa334774a90>, <keras.layers.core.Activation object at 0x7fa33476ce90>, <keras.layers.convolutional.Conv2D object at 0x7fa33477c250>, <keras.layers.merge.Concatenate object at 0x7fa33477c850>, <keras.layers.normalization.batch_normalization.BatchNormalization object at 0x7fa33477cbd0>, <keras.layers.core.Activation object at 0x7fa334774fd0>, <keras.layers.convolutional.Conv2D object at 0x7fa334788250>, <keras.layers.normalization.batch_normalization.BatchNormalization object at 0x7fa334788850>, <keras.layers.core.Activation object at 0x7fa334788ed0>, <keras.layers.convolutional.Conv2D object at 0x7fa33454b110>, <keras.layers.merge.Concatenate object at 0x7fa33454b610>, <keras.layers.normalization.batch_normalization.BatchNormalization object at 0x7fa33454b990>, <keras.layers.core.Activation object at 0x7fa33454bed0>, <keras.layers.convolutional.Conv2D object at 0x7fa334551110>, <keras.layers.normalization.batch_normalization.BatchNormalization object at 0x7fa334551610>, <keras.layers.core.Activation object at 0x7fa334551c90>, <keras.layers.convolutional.Conv2D object at 0x7fa334551d90>, <keras.layers.merge.Concatenate object at 0x7fa3345573d0>, <keras.layers.normalization.batch_normalization.BatchNormalization object at 0x7fa334557750>, <keras.layers.core.Activation object at 0x7fa334557c90>, <keras.layers.convolutional.Conv2D object at 0x7fa334557d90>, <keras.layers.normalization.batch_normalization.BatchNormalization object at 0x7fa33455e3d0>, <keras.layers.core.Activation object at 0x7fa33455ea50>, <keras.layers.convolutional.Conv2D object at 0x7fa33455eb50>, <keras.layers.merge.Concatenate object at 0x7fa334563190>, <keras.layers.normalization.batch_normalization.BatchNormalization object at 0x7fa334563510>, <keras.layers.core.Activation object at 0x7fa334563a50>, <keras.layers.convolutional.Conv2D object at 0x7fa334563b50>, <keras.layers.normalization.batch_normalization.BatchNormalization object at 0x7fa33456a190>, <keras.layers.core.Activation object at 0x7fa33456a810>, <keras.layers.convolutional.Conv2D object at 0x7fa33456a910>, <keras.layers.merge.Concatenate object at 0x7fa33477cfd0>, <keras.layers.normalization.batch_normalization.BatchNormalization object at 0x7fa33456f2d0>, <keras.layers.core.Activation object at 0x7fa33456f810>, <keras.layers.convolutional.Conv2D object at 0x7fa33456f910>, <keras.layers.normalization.batch_normalization.BatchNormalization object at 0x7fa33456af10>, <keras.layers.core.Activation object at 0x7fa3345765d0>, <keras.layers.convolutional.Conv2D object at 0x7fa3345766d0>, <keras.layers.merge.Concatenate object at 0x7fa334576cd0>, <keras.layers.normalization.batch_normalization.BatchNormalization object at 0x7fa334576fd0>, <keras.layers.core.Activation object at 0x7fa33457a5d0>, <keras.layers.convolutional.Conv2D object at 0x7fa33457a6d0>, <keras.layers.normalization.batch_normalization.BatchNormalization object at 0x7fa33457acd0>, <keras.layers.core.Activation object at 0x7fa33456ff10>, <keras.layers.convolutional.Conv2D object at 0x7fa33457f490>, <keras.layers.merge.Concatenate object at 0x7fa33457fa90>, <keras.layers.normalization.batch_normalization.BatchNormalization object at 0x7fa33457fe10>, <keras.layers.core.Activation object at 0x7fa33457af90>, <keras.layers.convolutional.Conv2D object at 0x7fa334585490>, <keras.layers.normalization.batch_normalization.BatchNormalization object at 0x7fa334585a90>, <keras.layers.core.Activation object at 0x7fa33457fe90>, <keras.layers.convolutional.Conv2D object at 0x7fa33414d250>, <keras.layers.merge.Concatenate object at 0x7fa33414d850>, <keras.layers.normalization.batch_normalization.BatchNormalization object at 0x7fa33414dbd0>, <keras.layers.core.Activation object at 0x7fa334585fd0>, <keras.layers.convolutional.Conv2D object at 0x7fa334153250>, <keras.layers.pooling.AveragePooling2D object at 0x7fa334153850>, <keras.layers.normalization.batch_normalization.BatchNormalization object at 0x7fa334153dd0>, <keras.layers.core.Activation object at 0x7fa33414dfd0>, <keras.layers.convolutional.Conv2D object at 0x7fa334156390>, <keras.layers.normalization.batch_normalization.BatchNormalization object at 0x7fa334156990>, <keras.layers.core.Activation object at 0x7fa334153e50>, <keras.layers.convolutional.Conv2D object at 0x7fa33415f150>, <keras.layers.merge.Concatenate object at 0x7fa33415f750>, <keras.layers.normalization.batch_normalization.BatchNormalization object at 0x7fa33415fad0>, <keras.layers.core.Activation object at 0x7fa334156fd0>, <keras.layers.convolutional.Conv2D object at 0x7fa334163150>, <keras.layers.normalization.batch_normalization.BatchNormalization object at 0x7fa334163750>, <keras.layers.core.Activation object at 0x7fa334163dd0>, <keras.layers.convolutional.Conv2D object at 0x7fa334163ed0>, <keras.layers.merge.Concatenate object at 0x7fa3341684d0>, <keras.layers.normalization.batch_normalization.BatchNormalization object at 0x7fa334168850>, <keras.layers.core.Activation object at 0x7fa334168d90>, <keras.layers.convolutional.Conv2D object at 0x7fa334168e90>, <keras.layers.normalization.batch_normalization.BatchNormalization object at 0x7fa33416d4d0>, <keras.layers.core.Activation object at 0x7fa33416db50>, <keras.layers.convolutional.Conv2D object at 0x7fa33416dc50>, <keras.layers.merge.Concatenate object at 0x7fa334177290>, <keras.layers.normalization.batch_normalization.BatchNormalization object at 0x7fa334177610>, <keras.layers.core.Activation object at 0x7fa334177b50>, <keras.layers.convolutional.Conv2D object at 0x7fa334177c50>, <keras.layers.normalization.batch_normalization.BatchNormalization object at 0x7fa33417b290>, <keras.layers.core.Activation object at 0x7fa33417b910>, <keras.layers.convolutional.Conv2D object at 0x7fa33417ba10>, <keras.layers.merge.Concatenate object at 0x7fa334180050>, <keras.layers.normalization.batch_normalization.BatchNormalization object at 0x7fa3341803d0>, <keras.layers.core.Activation object at 0x7fa334180910>, <keras.layers.convolutional.Conv2D object at 0x7fa334180a10>, <keras.layers.normalization.batch_normalization.BatchNormalization object at 0x7fa334186050>, <keras.layers.core.Activation object at 0x7fa3341866d0>, <keras.layers.convolutional.Conv2D object at 0x7fa3341867d0>, <keras.layers.merge.Concatenate object at 0x7fa334186dd0>, <keras.layers.normalization.batch_normalization.BatchNormalization object at 0x7fa33410d190>, <keras.layers.core.Activation object at 0x7fa33410d6d0>, <keras.layers.convolutional.Conv2D object at 0x7fa33410d7d0>, <keras.layers.normalization.batch_normalization.BatchNormalization object at 0x7fa33410ddd0>, <keras.layers.core.Activation object at 0x7fa334113490>, <keras.layers.convolutional.Conv2D object at 0x7fa334113590>, <keras.layers.merge.Concatenate object at 0x7fa334113b90>, <keras.layers.normalization.batch_normalization.BatchNormalization object at 0x7fa334113f10>, <keras.layers.core.Activation object at 0x7fa334118490>, <keras.layers.convolutional.Conv2D object at 0x7fa334118590>, <keras.layers.normalization.batch_normalization.BatchNormalization object at 0x7fa334118b90>, <keras.layers.core.Activation object at 0x7fa33415ffd0>, <keras.layers.convolutional.Conv2D object at 0x7fa33411e350>, <keras.layers.merge.Concatenate object at 0x7fa33411e950>, <keras.layers.normalization.batch_normalization.BatchNormalization object at 0x7fa33411ecd0>, <keras.layers.core.Activation object at 0x7fa334118e50>, <keras.layers.convolutional.Conv2D object at 0x7fa334123350>, <keras.layers.normalization.batch_normalization.BatchNormalization object at 0x7fa334123950>, <keras.layers.core.Activation object at 0x7fa33411ed50>, <keras.layers.convolutional.Conv2D object at 0x7fa33412a110>, <keras.layers.merge.Concatenate object at 0x7fa33412a710>, <keras.layers.normalization.batch_normalization.BatchNormalization object at 0x7fa33412aa90>, <keras.layers.core.Activation object at 0x7fa334123fd0>, <keras.layers.convolutional.Conv2D object at 0x7fa334131110>, <keras.layers.normalization.batch_normalization.BatchNormalization object at 0x7fa334131710>, <keras.layers.core.Activation object at 0x7fa33412afd0>, <keras.layers.convolutional.Conv2D object at 0x7fa3a36b10d0>, <keras.layers.merge.Concatenate object at 0x7fa3a36a62d0>, <keras.layers.normalization.batch_normalization.BatchNormalization object at 0x7fa3a36af790>, <keras.layers.core.Activation object at 0x7fa3347c0810>, <keras.layers.convolutional.Conv2D object at 0x7fa33439a210>, <keras.layers.normalization.batch_normalization.BatchNormalization object at 0x7fa3344ff8d0>, <keras.layers.core.Activation object at 0x7fa33465e390>, <keras.layers.convolutional.Conv2D object at 0x7fa3343b1890>, <keras.layers.merge.Concatenate object at 0x7fa3346f8550>, <keras.layers.normalization.batch_normalization.BatchNormalization object at 0x7fa334465e10>, <keras.layers.core.Activation object at 0x7fa334373110>, <keras.layers.convolutional.Conv2D object at 0x7fa334470790>, <keras.layers.normalization.batch_normalization.BatchNormalization object at 0x7fa33447c650>, <keras.layers.core.Activation object at 0x7fa33472d5d0>, <keras.layers.convolutional.Conv2D object at 0x7fa33472d9d0>, <keras.layers.merge.Concatenate object at 0x7fa3344c2ad0>, <keras.layers.normalization.batch_normalization.BatchNormalization object at 0x7fa3347452d0>, <keras.layers.core.Activation object at 0x7fa33473e490>, <keras.layers.convolutional.Conv2D object at 0x7fa334606650>, <keras.layers.normalization.batch_normalization.BatchNormalization object at 0x7fa334606c50>, <keras.layers.core.Activation object at 0x7fa334411390>, <keras.layers.convolutional.Conv2D object at 0x7fa334449190>, <keras.layers.merge.Concatenate object at 0x7fa3341ee610>, <keras.layers.normalization.batch_normalization.BatchNormalization object at 0x7fa3341ee0d0>, <keras.layers.core.Activation object at 0x7fa3341e3e90>, <keras.layers.convolutional.Conv2D object at 0x7fa3341e3d50>, <keras.layers.normalization.batch_normalization.BatchNormalization object at 0x7fa3345ef3d0>, <keras.layers.core.Activation object at 0x7fa33451ef50>, <keras.layers.convolutional.Conv2D object at 0x7fa334547e90>, <keras.layers.merge.Concatenate object at 0x7fa3a36adfd0>, <keras.layers.normalization.batch_normalization.BatchNormalization object at 0x7fa334675e90>, <keras.layers.core.Activation object at 0x7fa334548e50>, <keras.layers.convolutional.Conv2D object at 0x7fa3a36b8e10>, <keras.layers.normalization.batch_normalization.BatchNormalization object at 0x7fa39aedcc10>, <keras.layers.core.Activation object at 0x7fa39aedc2d0>, <keras.layers.convolutional.Conv2D object at 0x7fa39aedc590>, <keras.layers.merge.Concatenate object at 0x7fa334675a90>, <keras.layers.normalization.batch_normalization.BatchNormalization object at 0x7fa3a01c0090>, <keras.layers.core.Activation object at 0x7fa3a01c0310>, <keras.layers.convolutional.Conv2D object at 0x7fa3a01c0e50>, <keras.layers.normalization.batch_normalization.BatchNormalization object at 0x7fa3a2b9f6d0>, <keras.layers.core.Activation object at 0x7fa3a2b9f650>, <keras.layers.convolutional.Conv2D object at 0x7fa3a2b9f150>, <keras.layers.merge.Concatenate object at 0x7fa39aedc3d0>, <keras.layers.normalization.batch_normalization.BatchNormalization object at 0x7fa3a35d1950>, <keras.layers.core.Activation object at 0x7fa3a35d1150>, <keras.layers.convolutional.Conv2D object at 0x7fa3a35d11d0>, <keras.layers.normalization.batch_normalization.BatchNormalization object at 0x7fa3a371ca90>, <keras.layers.core.Activation object at 0x7fa3a2b9fad0>, <keras.layers.convolutional.Conv2D object at 0x7fa3a2bb68d0>, <keras.layers.merge.Concatenate object at 0x7fa3a2bb6350>, <keras.layers.normalization.batch_normalization.BatchNormalization object at 0x7fa3a2bb6790>, <keras.layers.core.Activation object at 0x7fa3a371cad0>, <keras.layers.convolutional.Conv2D object at 0x7fa33422f610>, <keras.layers.normalization.batch_normalization.BatchNormalization object at 0x7fa33422fad0>, <keras.layers.core.Activation object at 0x7fa33422f990>, <keras.layers.convolutional.Conv2D object at 0x7fa39ae7ead0>, <keras.layers.merge.Concatenate object at 0x7fa39ae7ea50>, <keras.layers.normalization.batch_normalization.BatchNormalization object at 0x7fa39ae7ec50>, <keras.layers.core.Activation object at 0x7fa3a2c00d50>, <keras.layers.convolutional.Conv2D object at 0x7fa3a2c00710>, <keras.layers.normalization.batch_normalization.BatchNormalization object at 0x7fa3a5bdfa10>, <keras.layers.core.Activation object at 0x7fa3a65b2490>, <keras.layers.convolutional.Conv2D object at 0x7fa3a0164550>, <keras.layers.merge.Concatenate object at 0x7fa3a01644d0>, <keras.layers.normalization.batch_normalization.BatchNormalization object at 0x7fa3a0164390>, <keras.layers.core.Activation object at 0x7fa3a6da9e10>, <keras.layers.convolutional.Conv2D object at 0x7fa3a36c3350>, <keras.layers.normalization.batch_normalization.BatchNormalization object at 0x7fa3a36c3550>, <keras.layers.core.Activation object at 0x7fa3a00fa490>, <keras.layers.convolutional.Conv2D object at 0x7fa3a00fa810>, <keras.layers.merge.Concatenate object at 0x7fa3a00fa550>, <keras.layers.normalization.batch_normalization.BatchNormalization object at 0x7fa3a00fa050>, <keras.layers.core.Activation object at 0x7fa39ae0c550>, <keras.layers.convolutional.Conv2D object at 0x7fa39ae0ce10>, <keras.layers.normalization.batch_normalization.BatchNormalization object at 0x7fa3bdf11d50>, <keras.layers.core.Activation object at 0x7fa3b242c550>, <keras.layers.convolutional.Conv2D object at 0x7fa39af65dd0>, <keras.layers.merge.Concatenate object at 0x7fa39af65cd0>, <keras.layers.normalization.batch_normalization.BatchNormalization object at 0x7fa39af65a50>, <keras.layers.core.Activation object at 0x7fa3a35bf810>, <keras.layers.convolutional.Conv2D object at 0x7fa3a35bf090>, <keras.layers.normalization.batch_normalization.BatchNormalization object at 0x7fa3a3fa2490>, <keras.layers.core.Activation object at 0x7fa39ae0c210>, <keras.layers.convolutional.Conv2D object at 0x7fa3a2bd0ad0>, <keras.layers.merge.Concatenate object at 0x7fa3a2bd0a90>, <keras.layers.normalization.batch_normalization.BatchNormalization object at 0x7fa3a2bd08d0>, <keras.layers.core.Activation object at 0x7fa39af77dd0>, <keras.layers.convolutional.Conv2D object at 0x7fa39af77bd0>, <keras.layers.normalization.batch_normalization.BatchNormalization object at 0x7fa3a35bfa90>, <keras.layers.core.Activation object at 0x7fa39ae961d0>, <keras.layers.convolutional.Conv2D object at 0x7fa39ae96cd0>, <keras.layers.merge.Concatenate object at 0x7fa39af77b50>, <keras.layers.normalization.batch_normalization.BatchNormalization object at 0x7fa39ae51d50>, <keras.layers.core.Activation object at 0x7fa39ae51e90>, <keras.layers.convolutional.Conv2D object at 0x7fa39ae51fd0>, <keras.layers.normalization.batch_normalization.BatchNormalization object at 0x7fa3a37e9690>, <keras.layers.core.Activation object at 0x7fa43ac98f10>, <keras.layers.convolutional.Conv2D object at 0x7fa3a3456dd0>, <keras.layers.merge.Concatenate object at 0x7fa3a38b0250>, <keras.layers.normalization.batch_normalization.BatchNormalization object at 0x7fa33592d990>, <keras.layers.core.Activation object at 0x7fa33592d050>, <keras.layers.convolutional.Conv2D object at 0x7fa33592d3d0>, <keras.layers.normalization.batch_normalization.BatchNormalization object at 0x7fa3a3825090>, <keras.layers.core.Activation object at 0x7fa33593da10>, <keras.layers.convolutional.Conv2D object at 0x7fa33593d450>, <keras.layers.merge.Concatenate object at 0x7fa33593dfd0>, <keras.layers.normalization.batch_normalization.BatchNormalization object at 0x7fa33592d090>, <keras.layers.core.Activation object at 0x7fa335a8ac50>, <keras.layers.convolutional.Conv2D object at 0x7fa335a8a350>, <keras.layers.pooling.AveragePooling2D object at 0x7fa335a8a410>, <keras.layers.normalization.batch_normalization.BatchNormalization object at 0x7fa335918910>, <keras.layers.core.Activation object at 0x7fa335918490>, <keras.layers.convolutional.Conv2D object at 0x7fa335918e50>, <keras.layers.normalization.batch_normalization.BatchNormalization object at 0x7fa3980db910>, <keras.layers.core.Activation object at 0x7fa3980dba50>, <keras.layers.convolutional.Conv2D object at 0x7fa3980db0d0>, <keras.layers.merge.Concatenate object at 0x7fa335c778d0>, <keras.layers.normalization.batch_normalization.BatchNormalization object at 0x7fa335c77510>, <keras.layers.core.Activation object at 0x7fa335c77e10>, <keras.layers.convolutional.Conv2D object at 0x7fa335c77810>, <keras.layers.normalization.batch_normalization.BatchNormalization object at 0x7fa335c73ed0>, <keras.layers.core.Activation object at 0x7fa335c73bd0>, <keras.layers.convolutional.Conv2D object at 0x7fa335c73dd0>, <keras.layers.merge.Concatenate object at 0x7fa3359236d0>, <keras.layers.normalization.batch_normalization.BatchNormalization object at 0x7fa3359233d0>, <keras.layers.core.Activation object at 0x7fa335923490>, <keras.layers.convolutional.Conv2D object at 0x7fa3359234d0>, <keras.layers.normalization.batch_normalization.BatchNormalization object at 0x7fa33599a050>, <keras.layers.core.Activation object at 0x7fa33599ab90>, <keras.layers.convolutional.Conv2D object at 0x7fa33599a450>, <keras.layers.merge.Concatenate object at 0x7fa3a01270d0>, <keras.layers.normalization.batch_normalization.BatchNormalization object at 0x7fa3a0127290>, <keras.layers.core.Activation object at 0x7fa33593df10>, <keras.layers.convolutional.Conv2D object at 0x7fa3a0127d50>, <keras.layers.normalization.batch_normalization.BatchNormalization object at 0x7fa335844690>, <keras.layers.core.Activation object at 0x7fa3358447d0>, <keras.layers.convolutional.Conv2D object at 0x7fa335844410>, <keras.layers.merge.Concatenate object at 0x7fa398024790>, <keras.layers.normalization.batch_normalization.BatchNormalization object at 0x7fa3980248d0>, <keras.layers.core.Activation object at 0x7fa398024450>, <keras.layers.convolutional.Conv2D object at 0x7fa398024650>, <keras.layers.normalization.batch_normalization.BatchNormalization object at 0x7fa3a2be7590>, <keras.layers.core.Activation object at 0x7fa3a2be75d0>, <keras.layers.convolutional.Conv2D object at 0x7fa3a2be7d90>, <keras.layers.merge.Concatenate object at 0x7fa39ae5b6d0>, <keras.layers.normalization.batch_normalization.BatchNormalization object at 0x7fa39ae5bf90>, <keras.layers.core.Activation object at 0x7fa39ae5ba50>, <keras.layers.convolutional.Conv2D object at 0x7fa39ae5be50>, <keras.layers.normalization.batch_normalization.BatchNormalization object at 0x7fa3a2bc2490>, <keras.layers.core.Activation object at 0x7fa3a2bc20d0>, <keras.layers.convolutional.Conv2D object at 0x7fa3a2bc2650>, <keras.layers.merge.Concatenate object at 0x7fa3342ebb50>, <keras.layers.normalization.batch_normalization.BatchNormalization object at 0x7fa3342eb690>, <keras.layers.core.Activation object at 0x7fa3342eba50>, <keras.layers.convolutional.Conv2D object at 0x7fa3342ebdd0>, <keras.layers.normalization.batch_normalization.BatchNormalization object at 0x7fa3342e8ad0>, <keras.layers.core.Activation object at 0x7fa3342e8550>, <keras.layers.convolutional.Conv2D object at 0x7fa3342e8710>, <keras.layers.merge.Concatenate object at 0x7fa3a35b0890>, <keras.layers.normalization.batch_normalization.BatchNormalization object at 0x7fa3a35b0d90>, <keras.layers.core.Activation object at 0x7fa3a35b06d0>, <keras.layers.convolutional.Conv2D object at 0x7fa334603590>, <keras.layers.normalization.batch_normalization.BatchNormalization object at 0x7fa334603f10>, <keras.layers.core.Activation object at 0x7fa334603490>, <keras.layers.convolutional.Conv2D object at 0x7fa334603b90>, <keras.layers.merge.Concatenate object at 0x7fa3342f3610>, <keras.layers.normalization.batch_normalization.BatchNormalization object at 0x7fa3342f3910>, <keras.layers.core.Activation object at 0x7fa3342f37d0>, <keras.layers.convolutional.Conv2D object at 0x7fa3342f3ad0>, <keras.layers.normalization.batch_normalization.BatchNormalization object at 0x7fa334346c50>, <keras.layers.core.Activation object at 0x7fa334346810>, <keras.layers.convolutional.Conv2D object at 0x7fa3343464d0>, <keras.layers.merge.Concatenate object at 0x7fa3345cd510>, <keras.layers.normalization.batch_normalization.BatchNormalization object at 0x7fa3345cd810>, <keras.layers.core.Activation object at 0x7fa3345cd950>, <keras.layers.convolutional.Conv2D object at 0x7fa39aedcc90>, <keras.layers.normalization.batch_normalization.BatchNormalization object at 0x7fa39af27cd0>, <keras.layers.core.Activation object at 0x7fa39af27ed0>, <keras.layers.convolutional.Conv2D object at 0x7fa39af27c10>, <keras.layers.merge.Concatenate object at 0x7fa334229e50>, <keras.layers.normalization.batch_normalization.BatchNormalization object at 0x7fa3342298d0>, <keras.layers.core.Activation object at 0x7fa334229a90>, <keras.layers.convolutional.Conv2D object at 0x7fa39af1fad0>, <keras.layers.normalization.batch_normalization.BatchNormalization object at 0x7fa39af1fa10>, <keras.layers.core.Activation object at 0x7fa39af1f350>, <keras.layers.convolutional.Conv2D object at 0x7fa39af1f090>, <keras.layers.merge.Concatenate object at 0x7fa39af0ead0>, <keras.layers.normalization.batch_normalization.BatchNormalization object at 0x7fa39af0e4d0>, <keras.layers.core.Activation object at 0x7fa3345cdad0>, <keras.layers.convolutional.Conv2D object at 0x7fa335c57e90>, <keras.layers.normalization.batch_normalization.BatchNormalization object at 0x7fa335c57d10>, <keras.layers.core.Activation object at 0x7fa39af0ed10>, <keras.layers.convolutional.Conv2D object at 0x7fa39ade54d0>, <keras.layers.merge.Concatenate object at 0x7fa39ade5050>, <keras.layers.normalization.batch_normalization.BatchNormalization object at 0x7fa39ade5350>, <keras.layers.core.Activation object at 0x7fa335c57610>, <keras.layers.convolutional.Conv2D object at 0x7fa39ade2290>, <keras.layers.normalization.batch_normalization.BatchNormalization object at 0x7fa39ade2a10>, <keras.layers.core.Activation object at 0x7fa39ade5b10>, <keras.layers.convolutional.Conv2D object at 0x7fa335a47610>, <keras.layers.merge.Concatenate object at 0x7fa335a47790>, <keras.layers.normalization.batch_normalization.BatchNormalization object at 0x7fa335a47390>, <keras.layers.core.Activation object at 0x7fa39ade2ed0>, <keras.layers.convolutional.Conv2D object at 0x7fa39af639d0>, <keras.layers.normalization.batch_normalization.BatchNormalization object at 0x7fa39af63bd0>, <keras.layers.core.Activation object at 0x7fa39af63f10>, <keras.layers.convolutional.Conv2D object at 0x7fa335c59050>, <keras.layers.merge.Concatenate object at 0x7fa335c59310>, <keras.layers.normalization.batch_normalization.BatchNormalization object at 0x7fa335c59c50>, <keras.layers.core.Activation object at 0x7fa3a3df9fd0>, <keras.layers.convolutional.Conv2D object at 0x7fa3a0093410>, <keras.layers.normalization.batch_normalization.BatchNormalization object at 0x7fa3a0093590>, <keras.layers.core.Activation object at 0x7fa3a0093750>, <keras.layers.convolutional.Conv2D object at 0x7fa39addfdd0>, <keras.layers.merge.Concatenate object at 0x7fa39addf090>, <keras.layers.normalization.batch_normalization.BatchNormalization object at 0x7fa39addff10>, <keras.layers.core.Activation object at 0x7fa335c59cd0>, <keras.layers.convolutional.Conv2D object at 0x7fa39ae6a490>, <keras.layers.normalization.batch_normalization.BatchNormalization object at 0x7fa39ae6a550>, <keras.layers.core.Activation object at 0x7fa39addf9d0>, <keras.layers.convolutional.Conv2D object at 0x7fa3a0099b50>, <keras.layers.merge.Concatenate object at 0x7fa3a0099190>, <keras.layers.normalization.batch_normalization.BatchNormalization object at 0x7fa3a0099510>, <keras.layers.core.Activation object at 0x7fa39ae6a250>, <keras.layers.pooling.GlobalAveragePooling2D object at 0x7fa335977810>]",
     "output_type": "error",
     "traceback": [
      "\u001b[0;31m---------------------------------------------------------------------------\u001b[0m",
      "\u001b[0;31mTypeError\u001b[0m                                 Traceback (most recent call last)",
      "\u001b[0;32m/tmp/ipykernel_1566/4220995731.py\u001b[0m in \u001b[0;36m<module>\u001b[0;34m\u001b[0m\n\u001b[1;32m     20\u001b[0m     \u001b[0;32mreturn\u001b[0m \u001b[0mchexnet\u001b[0m\u001b[0;34m\u001b[0m\u001b[0;34m\u001b[0m\u001b[0m\n\u001b[1;32m     21\u001b[0m \u001b[0;34m\u001b[0m\u001b[0m\n\u001b[0;32m---> 22\u001b[0;31m \u001b[0mchexnet\u001b[0m \u001b[0;34m=\u001b[0m \u001b[0mload_chexnet\u001b[0m\u001b[0;34m(\u001b[0m\u001b[0;36m20\u001b[0m\u001b[0;34m)\u001b[0m\u001b[0;34m\u001b[0m\u001b[0;34m\u001b[0m\u001b[0m\n\u001b[0m\u001b[1;32m     23\u001b[0m \u001b[0mprint\u001b[0m\u001b[0;34m(\u001b[0m\u001b[0mchexnet\u001b[0m\u001b[0;34m.\u001b[0m\u001b[0msummary\u001b[0m\u001b[0;34m(\u001b[0m\u001b[0;34m)\u001b[0m\u001b[0;34m)\u001b[0m\u001b[0;34m\u001b[0m\u001b[0;34m\u001b[0m\u001b[0m\n",
      "\u001b[0;32m/tmp/ipykernel_1566/4220995731.py\u001b[0m in \u001b[0;36mload_chexnet\u001b[0;34m(output_dim, mode)\u001b[0m\n\u001b[1;32m     11\u001b[0m     \u001b[0;32mif\u001b[0m \u001b[0mmode\u001b[0m \u001b[0;34m==\u001b[0m \u001b[0;36m0\u001b[0m\u001b[0;34m:\u001b[0m \u001b[0;31m## prediction\u001b[0m\u001b[0;34m\u001b[0m\u001b[0;34m\u001b[0m\u001b[0m\n\u001b[1;32m     12\u001b[0m         chexnet = tf.keras.Sequential([base_model,\n\u001b[0;32m---> 13\u001b[0;31m                                       \u001b[0mtf\u001b[0m\u001b[0;34m.\u001b[0m\u001b[0mkeras\u001b[0m\u001b[0;34m.\u001b[0m\u001b[0mlayers\u001b[0m\u001b[0;34m.\u001b[0m\u001b[0mDense\u001b[0m\u001b[0;34m(\u001b[0m\u001b[0moutput_dim\u001b[0m\u001b[0;34m,\u001b[0m \u001b[0mactivation\u001b[0m\u001b[0;34m=\u001b[0m\u001b[0;34m'softmax'\u001b[0m\u001b[0;34m)\u001b[0m\u001b[0;34m,\u001b[0m\u001b[0;34m\u001b[0m\u001b[0;34m\u001b[0m\u001b[0m\n\u001b[0m\u001b[1;32m     14\u001b[0m                                       ])\n\u001b[1;32m     15\u001b[0m     \u001b[0;32melse\u001b[0m\u001b[0;34m:\u001b[0m \u001b[0;31m## nearest neighbours -- get embedding\u001b[0m\u001b[0;34m\u001b[0m\u001b[0;34m\u001b[0m\u001b[0m\n",
      "\u001b[0;32m/opt/conda/lib/python3.7/site-packages/tensorflow/python/training/tracking/base.py\u001b[0m in \u001b[0;36m_method_wrapper\u001b[0;34m(self, *args, **kwargs)\u001b[0m\n\u001b[1;32m    528\u001b[0m     \u001b[0mself\u001b[0m\u001b[0;34m.\u001b[0m\u001b[0m_self_setattr_tracking\u001b[0m \u001b[0;34m=\u001b[0m \u001b[0;32mFalse\u001b[0m  \u001b[0;31m# pylint: disable=protected-access\u001b[0m\u001b[0;34m\u001b[0m\u001b[0;34m\u001b[0m\u001b[0m\n\u001b[1;32m    529\u001b[0m     \u001b[0;32mtry\u001b[0m\u001b[0;34m:\u001b[0m\u001b[0;34m\u001b[0m\u001b[0;34m\u001b[0m\u001b[0m\n\u001b[0;32m--> 530\u001b[0;31m       \u001b[0mresult\u001b[0m \u001b[0;34m=\u001b[0m \u001b[0mmethod\u001b[0m\u001b[0;34m(\u001b[0m\u001b[0mself\u001b[0m\u001b[0;34m,\u001b[0m \u001b[0;34m*\u001b[0m\u001b[0margs\u001b[0m\u001b[0;34m,\u001b[0m \u001b[0;34m**\u001b[0m\u001b[0mkwargs\u001b[0m\u001b[0;34m)\u001b[0m\u001b[0;34m\u001b[0m\u001b[0;34m\u001b[0m\u001b[0m\n\u001b[0m\u001b[1;32m    531\u001b[0m     \u001b[0;32mfinally\u001b[0m\u001b[0;34m:\u001b[0m\u001b[0;34m\u001b[0m\u001b[0;34m\u001b[0m\u001b[0m\n\u001b[1;32m    532\u001b[0m       \u001b[0mself\u001b[0m\u001b[0;34m.\u001b[0m\u001b[0m_self_setattr_tracking\u001b[0m \u001b[0;34m=\u001b[0m \u001b[0mprevious_value\u001b[0m  \u001b[0;31m# pylint: disable=protected-access\u001b[0m\u001b[0;34m\u001b[0m\u001b[0;34m\u001b[0m\u001b[0m\n",
      "\u001b[0;32m/opt/conda/lib/python3.7/site-packages/keras/engine/sequential.py\u001b[0m in \u001b[0;36m__init__\u001b[0;34m(self, layers, name)\u001b[0m\n\u001b[1;32m    132\u001b[0m         \u001b[0mlayers\u001b[0m \u001b[0;34m=\u001b[0m \u001b[0;34m[\u001b[0m\u001b[0mlayers\u001b[0m\u001b[0;34m]\u001b[0m\u001b[0;34m\u001b[0m\u001b[0;34m\u001b[0m\u001b[0m\n\u001b[1;32m    133\u001b[0m       \u001b[0;32mfor\u001b[0m \u001b[0mlayer\u001b[0m \u001b[0;32min\u001b[0m \u001b[0mlayers\u001b[0m\u001b[0;34m:\u001b[0m\u001b[0;34m\u001b[0m\u001b[0;34m\u001b[0m\u001b[0m\n\u001b[0;32m--> 134\u001b[0;31m         \u001b[0mself\u001b[0m\u001b[0;34m.\u001b[0m\u001b[0madd\u001b[0m\u001b[0;34m(\u001b[0m\u001b[0mlayer\u001b[0m\u001b[0;34m)\u001b[0m\u001b[0;34m\u001b[0m\u001b[0;34m\u001b[0m\u001b[0m\n\u001b[0m\u001b[1;32m    135\u001b[0m \u001b[0;34m\u001b[0m\u001b[0m\n\u001b[1;32m    136\u001b[0m   \u001b[0;34m@\u001b[0m\u001b[0mproperty\u001b[0m\u001b[0;34m\u001b[0m\u001b[0;34m\u001b[0m\u001b[0m\n",
      "\u001b[0;32m/opt/conda/lib/python3.7/site-packages/tensorflow/python/training/tracking/base.py\u001b[0m in \u001b[0;36m_method_wrapper\u001b[0;34m(self, *args, **kwargs)\u001b[0m\n\u001b[1;32m    528\u001b[0m     \u001b[0mself\u001b[0m\u001b[0;34m.\u001b[0m\u001b[0m_self_setattr_tracking\u001b[0m \u001b[0;34m=\u001b[0m \u001b[0;32mFalse\u001b[0m  \u001b[0;31m# pylint: disable=protected-access\u001b[0m\u001b[0;34m\u001b[0m\u001b[0;34m\u001b[0m\u001b[0m\n\u001b[1;32m    529\u001b[0m     \u001b[0;32mtry\u001b[0m\u001b[0;34m:\u001b[0m\u001b[0;34m\u001b[0m\u001b[0;34m\u001b[0m\u001b[0m\n\u001b[0;32m--> 530\u001b[0;31m       \u001b[0mresult\u001b[0m \u001b[0;34m=\u001b[0m \u001b[0mmethod\u001b[0m\u001b[0;34m(\u001b[0m\u001b[0mself\u001b[0m\u001b[0;34m,\u001b[0m \u001b[0;34m*\u001b[0m\u001b[0margs\u001b[0m\u001b[0;34m,\u001b[0m \u001b[0;34m**\u001b[0m\u001b[0mkwargs\u001b[0m\u001b[0;34m)\u001b[0m\u001b[0;34m\u001b[0m\u001b[0;34m\u001b[0m\u001b[0m\n\u001b[0m\u001b[1;32m    531\u001b[0m     \u001b[0;32mfinally\u001b[0m\u001b[0;34m:\u001b[0m\u001b[0;34m\u001b[0m\u001b[0;34m\u001b[0m\u001b[0m\n\u001b[1;32m    532\u001b[0m       \u001b[0mself\u001b[0m\u001b[0;34m.\u001b[0m\u001b[0m_self_setattr_tracking\u001b[0m \u001b[0;34m=\u001b[0m \u001b[0mprevious_value\u001b[0m  \u001b[0;31m# pylint: disable=protected-access\u001b[0m\u001b[0;34m\u001b[0m\u001b[0;34m\u001b[0m\u001b[0m\n",
      "\u001b[0;32m/opt/conda/lib/python3.7/site-packages/keras/engine/sequential.py\u001b[0m in \u001b[0;36madd\u001b[0;34m(self, layer)\u001b[0m\n\u001b[1;32m    175\u001b[0m       raise TypeError('The added layer must be '\n\u001b[1;32m    176\u001b[0m                       \u001b[0;34m'an instance of class Layer. '\u001b[0m\u001b[0;34m\u001b[0m\u001b[0;34m\u001b[0m\u001b[0m\n\u001b[0;32m--> 177\u001b[0;31m                       'Found: ' + str(layer))\n\u001b[0m\u001b[1;32m    178\u001b[0m \u001b[0;34m\u001b[0m\u001b[0m\n\u001b[1;32m    179\u001b[0m     \u001b[0mtf_utils\u001b[0m\u001b[0;34m.\u001b[0m\u001b[0massert_no_legacy_layers\u001b[0m\u001b[0;34m(\u001b[0m\u001b[0;34m[\u001b[0m\u001b[0mlayer\u001b[0m\u001b[0;34m]\u001b[0m\u001b[0;34m)\u001b[0m\u001b[0;34m\u001b[0m\u001b[0;34m\u001b[0m\u001b[0m\n",
      "\u001b[0;31mTypeError\u001b[0m: The added layer must be an instance of class Layer. Found: [<keras.engine.input_layer.InputLayer object at 0x7fa334597690>, <keras.layers.convolutional.ZeroPadding2D object at 0x7fa3345b1550>, <keras.layers.convolutional.Conv2D object at 0x7fa3344e0390>, <keras.layers.normalization.batch_normalization.BatchNormalization object at 0x7fa33458db10>, <keras.layers.core.Activation object at 0x7fa3345b1510>, <keras.layers.convolutional.ZeroPadding2D object at 0x7fa3344fd590>, <keras.layers.pooling.MaxPooling2D object at 0x7fa334597d90>, <keras.layers.normalization.batch_normalization.BatchNormalization object at 0x7fa33458dd10>, <keras.layers.core.Activation object at 0x7fa3344b5e50>, <keras.layers.convolutional.Conv2D object at 0x7fa3344c8990>, <keras.layers.normalization.batch_normalization.BatchNormalization object at 0x7fa3344b6cd0>, <keras.layers.core.Activation object at 0x7fa3344ff950>, <keras.layers.convolutional.Conv2D object at 0x7fa3a35e7ed0>, <keras.layers.merge.Concatenate object at 0x7fa33445bed0>, <keras.layers.normalization.batch_normalization.BatchNormalization object at 0x7fa3347c1550>, <keras.layers.core.Activation object at 0x7fa33448c3d0>, <keras.layers.convolutional.Conv2D object at 0x7fa3347c1990>, <keras.layers.normalization.batch_normalization.BatchNormalization object at 0x7fa33458dcd0>, <keras.layers.core.Activation object at 0x7fa3a3610650>, <keras.layers.convolutional.Conv2D object at 0x7fa3a3610750>, <keras.layers.merge.Concatenate object at 0x7fa3a3610d10>, <keras.layers.normalization.batch_normalization.BatchNormalization object at 0x7fa3347c1f90>, <keras.layers.core.Activation object at 0x7fa3a361f610>, <keras.layers.convolutional.Conv2D object at 0x7fa3a361f710>, <keras.layers.normalization.batch_normalization.BatchNormalization object at 0x7fa3a361fd10>, <keras.layers.core.Activation object at 0x7fa3a3610fd0>, <keras.layers.convolutional.Conv2D object at 0x7fa3a36323d0>, <keras.layers.merge.Concatenate object at 0x7fa3a3632550>, <keras.layers.normalization.batch_normalization.BatchNormalization object at 0x7fa3a3632bd0>, <keras.layers.core.Activation object at 0x7fa3a361ffd0>, <keras.layers.convolutional.Conv2D object at 0x7fa3a36334d0>, <keras.layers.normalization.batch_normalization.BatchNormalization object at 0x7fa3a3632c90>, <keras.layers.core.Activation object at 0x7fa39ade0a10>, <keras.layers.convolutional.Conv2D object at 0x7fa3a3629210>, <keras.layers.merge.Concatenate object at 0x7fa3a36297d0>, <keras.layers.normalization.batch_normalization.BatchNormalization object at 0x7fa3a3633fd0>, <keras.layers.core.Activation object at 0x7fa335a1b450>, <keras.layers.convolutional.Conv2D object at 0x7fa3a3624150>, <keras.layers.normalization.batch_normalization.BatchNormalization object at 0x7fa3a3624750>, <keras.layers.core.Activation object at 0x7fa3a3624dd0>, <keras.layers.convolutional.Conv2D object at 0x7fa3a3624ed0>, <keras.layers.merge.Concatenate object at 0x7fa3a361e650>, <keras.layers.normalization.batch_normalization.BatchNormalization object at 0x7fa3a361eb10>, <keras.layers.core.Activation object at 0x7fa3a361ee90>, <keras.layers.convolutional.Conv2D object at 0x7fa3a361e810>, <keras.layers.normalization.batch_normalization.BatchNormalization object at 0x7fa3a35fd510>, <keras.layers.core.Activation object at 0x7fa3a35fdb90>, <keras.layers.convolutional.Conv2D object at 0x7fa3a35fdc90>, <keras.layers.merge.Concatenate object at 0x7fa3347872d0>, <keras.layers.normalization.batch_normalization.BatchNormalization object at 0x7fa334787650>, <keras.layers.core.Activation object at 0x7fa334787b90>, <keras.layers.convolutional.Conv2D object at 0x7fa334787c90>, <keras.layers.pooling.AveragePooling2D object at 0x7fa3347822d0>, <keras.layers.normalization.batch_normalization.BatchNormalization object at 0x7fa334782850>, <keras.layers.core.Activation object at 0x7fa334782cd0>, <keras.layers.convolutional.Conv2D object at 0x7fa334782dd0>, <keras.layers.normalization.batch_normalization.BatchNormalization object at 0x7fa334781410>, <keras.layers.core.Activation object at 0x7fa334781a90>, <keras.layers.convolutional.Conv2D object at 0x7fa334781b90>, <keras.layers.merge.Concatenate object at 0x7fa33474b1d0>, <keras.layers.normalization.batch_normalization.BatchNormalization object at 0x7fa33474b550>, <keras.layers.core.Activation object at 0x7fa33474ba90>, <keras.layers.convolutional.Conv2D object at 0x7fa33474bb90>, <keras.layers.normalization.batch_normalization.BatchNormalization object at 0x7fa3347541d0>, <keras.layers.core.Activation object at 0x7fa334754850>, <keras.layers.convolutional.Conv2D object at 0x7fa3a3629fd0>, <keras.layers.merge.Concatenate object at 0x7fa3a2be79d0>, <keras.layers.normalization.batch_normalization.BatchNormalization object at 0x7fa3347592d0>, <keras.layers.core.Activation object at 0x7fa334759810>, <keras.layers.convolutional.Conv2D object at 0x7fa334759910>, <keras.layers.normalization.batch_normalization.BatchNormalization object at 0x7fa334754f10>, <keras.layers.core.Activation object at 0x7fa334762110>, <keras.layers.convolutional.Conv2D object at 0x7fa3347627d0>, <keras.layers.merge.Concatenate object at 0x7fa334762c10>, <keras.layers.normalization.batch_normalization.BatchNormalization object at 0x7fa334762290>, <keras.layers.core.Activation object at 0x7fa3347655d0>, <keras.layers.convolutional.Conv2D object at 0x7fa3347656d0>, <keras.layers.normalization.batch_normalization.BatchNormalization object at 0x7fa334765cd0>, <keras.layers.core.Activation object at 0x7fa334759f10>, <keras.layers.convolutional.Conv2D object at 0x7fa33476c490>, <keras.layers.merge.Concatenate object at 0x7fa33476ca90>, <keras.layers.normalization.batch_normalization.BatchNormalization object at 0x7fa33476ce10>, <keras.layers.core.Activation object at 0x7fa334765f90>, <keras.layers.convolutional.Conv2D object at 0x7fa334774490>, <keras.layers.normalization.batch_normalization.BatchNormalization object at 0x7fa334774a90>, <keras.layers.core.Activation object at 0x7fa33476ce90>, <keras.layers.convolutional.Conv2D object at 0x7fa33477c250>, <keras.layers.merge.Concatenate object at 0x7fa33477c850>, <keras.layers.normalization.batch_normalization.BatchNormalization object at 0x7fa33477cbd0>, <keras.layers.core.Activation object at 0x7fa334774fd0>, <keras.layers.convolutional.Conv2D object at 0x7fa334788250>, <keras.layers.normalization.batch_normalization.BatchNormalization object at 0x7fa334788850>, <keras.layers.core.Activation object at 0x7fa334788ed0>, <keras.layers.convolutional.Conv2D object at 0x7fa33454b110>, <keras.layers.merge.Concatenate object at 0x7fa33454b610>, <keras.layers.normalization.batch_normalization.BatchNormalization object at 0x7fa33454b990>, <keras.layers.core.Activation object at 0x7fa33454bed0>, <keras.layers.convolutional.Conv2D object at 0x7fa334551110>, <keras.layers.normalization.batch_normalization.BatchNormalization object at 0x7fa334551610>, <keras.layers.core.Activation object at 0x7fa334551c90>, <keras.layers.convolutional.Conv2D object at 0x7fa334551d90>, <keras.layers.merge.Concatenate object at 0x7fa3345573d0>, <keras.layers.normalization.batch_normalization.BatchNormalization object at 0x7fa334557750>, <keras.layers.core.Activation object at 0x7fa334557c90>, <keras.layers.convolutional.Conv2D object at 0x7fa334557d90>, <keras.layers.normalization.batch_normalization.BatchNormalization object at 0x7fa33455e3d0>, <keras.layers.core.Activation object at 0x7fa33455ea50>, <keras.layers.convolutional.Conv2D object at 0x7fa33455eb50>, <keras.layers.merge.Concatenate object at 0x7fa334563190>, <keras.layers.normalization.batch_normalization.BatchNormalization object at 0x7fa334563510>, <keras.layers.core.Activation object at 0x7fa334563a50>, <keras.layers.convolutional.Conv2D object at 0x7fa334563b50>, <keras.layers.normalization.batch_normalization.BatchNormalization object at 0x7fa33456a190>, <keras.layers.core.Activation object at 0x7fa33456a810>, <keras.layers.convolutional.Conv2D object at 0x7fa33456a910>, <keras.layers.merge.Concatenate object at 0x7fa33477cfd0>, <keras.layers.normalization.batch_normalization.BatchNormalization object at 0x7fa33456f2d0>, <keras.layers.core.Activation object at 0x7fa33456f810>, <keras.layers.convolutional.Conv2D object at 0x7fa33456f910>, <keras.layers.normalization.batch_normalization.BatchNormalization object at 0x7fa33456af10>, <keras.layers.core.Activation object at 0x7fa3345765d0>, <keras.layers.convolutional.Conv2D object at 0x7fa3345766d0>, <keras.layers.merge.Concatenate object at 0x7fa334576cd0>, <keras.layers.normalization.batch_normalization.BatchNormalization object at 0x7fa334576fd0>, <keras.layers.core.Activation object at 0x7fa33457a5d0>, <keras.layers.convolutional.Conv2D object at 0x7fa33457a6d0>, <keras.layers.normalization.batch_normalization.BatchNormalization object at 0x7fa33457acd0>, <keras.layers.core.Activation object at 0x7fa33456ff10>, <keras.layers.convolutional.Conv2D object at 0x7fa33457f490>, <keras.layers.merge.Concatenate object at 0x7fa33457fa90>, <keras.layers.normalization.batch_normalization.BatchNormalization object at 0x7fa33457fe10>, <keras.layers.core.Activation object at 0x7fa33457af90>, <keras.layers.convolutional.Conv2D object at 0x7fa334585490>, <keras.layers.normalization.batch_normalization.BatchNormalization object at 0x7fa334585a90>, <keras.layers.core.Activation object at 0x7fa33457fe90>, <keras.layers.convolutional.Conv2D object at 0x7fa33414d250>, <keras.layers.merge.Concatenate object at 0x7fa33414d850>, <keras.layers.normalization.batch_normalization.BatchNormalization object at 0x7fa33414dbd0>, <keras.layers.core.Activation object at 0x7fa334585fd0>, <keras.layers.convolutional.Conv2D object at 0x7fa334153250>, <keras.layers.pooling.AveragePooling2D object at 0x7fa334153850>, <keras.layers.normalization.batch_normalization.BatchNormalization object at 0x7fa334153dd0>, <keras.layers.core.Activation object at 0x7fa33414dfd0>, <keras.layers.convolutional.Conv2D object at 0x7fa334156390>, <keras.layers.normalization.batch_normalization.BatchNormalization object at 0x7fa334156990>, <keras.layers.core.Activation object at 0x7fa334153e50>, <keras.layers.convolutional.Conv2D object at 0x7fa33415f150>, <keras.layers.merge.Concatenate object at 0x7fa33415f750>, <keras.layers.normalization.batch_normalization.BatchNormalization object at 0x7fa33415fad0>, <keras.layers.core.Activation object at 0x7fa334156fd0>, <keras.layers.convolutional.Conv2D object at 0x7fa334163150>, <keras.layers.normalization.batch_normalization.BatchNormalization object at 0x7fa334163750>, <keras.layers.core.Activation object at 0x7fa334163dd0>, <keras.layers.convolutional.Conv2D object at 0x7fa334163ed0>, <keras.layers.merge.Concatenate object at 0x7fa3341684d0>, <keras.layers.normalization.batch_normalization.BatchNormalization object at 0x7fa334168850>, <keras.layers.core.Activation object at 0x7fa334168d90>, <keras.layers.convolutional.Conv2D object at 0x7fa334168e90>, <keras.layers.normalization.batch_normalization.BatchNormalization object at 0x7fa33416d4d0>, <keras.layers.core.Activation object at 0x7fa33416db50>, <keras.layers.convolutional.Conv2D object at 0x7fa33416dc50>, <keras.layers.merge.Concatenate object at 0x7fa334177290>, <keras.layers.normalization.batch_normalization.BatchNormalization object at 0x7fa334177610>, <keras.layers.core.Activation object at 0x7fa334177b50>, <keras.layers.convolutional.Conv2D object at 0x7fa334177c50>, <keras.layers.normalization.batch_normalization.BatchNormalization object at 0x7fa33417b290>, <keras.layers.core.Activation object at 0x7fa33417b910>, <keras.layers.convolutional.Conv2D object at 0x7fa33417ba10>, <keras.layers.merge.Concatenate object at 0x7fa334180050>, <keras.layers.normalization.batch_normalization.BatchNormalization object at 0x7fa3341803d0>, <keras.layers.core.Activation object at 0x7fa334180910>, <keras.layers.convolutional.Conv2D object at 0x7fa334180a10>, <keras.layers.normalization.batch_normalization.BatchNormalization object at 0x7fa334186050>, <keras.layers.core.Activation object at 0x7fa3341866d0>, <keras.layers.convolutional.Conv2D object at 0x7fa3341867d0>, <keras.layers.merge.Concatenate object at 0x7fa334186dd0>, <keras.layers.normalization.batch_normalization.BatchNormalization object at 0x7fa33410d190>, <keras.layers.core.Activation object at 0x7fa33410d6d0>, <keras.layers.convolutional.Conv2D object at 0x7fa33410d7d0>, <keras.layers.normalization.batch_normalization.BatchNormalization object at 0x7fa33410ddd0>, <keras.layers.core.Activation object at 0x7fa334113490>, <keras.layers.convolutional.Conv2D object at 0x7fa334113590>, <keras.layers.merge.Concatenate object at 0x7fa334113b90>, <keras.layers.normalization.batch_normalization.BatchNormalization object at 0x7fa334113f10>, <keras.layers.core.Activation object at 0x7fa334118490>, <keras.layers.convolutional.Conv2D object at 0x7fa334118590>, <keras.layers.normalization.batch_normalization.BatchNormalization object at 0x7fa334118b90>, <keras.layers.core.Activation object at 0x7fa33415ffd0>, <keras.layers.convolutional.Conv2D object at 0x7fa33411e350>, <keras.layers.merge.Concatenate object at 0x7fa33411e950>, <keras.layers.normalization.batch_normalization.BatchNormalization object at 0x7fa33411ecd0>, <keras.layers.core.Activation object at 0x7fa334118e50>, <keras.layers.convolutional.Conv2D object at 0x7fa334123350>, <keras.layers.normalization.batch_normalization.BatchNormalization object at 0x7fa334123950>, <keras.layers.core.Activation object at 0x7fa33411ed50>, <keras.layers.convolutional.Conv2D object at 0x7fa33412a110>, <keras.layers.merge.Concatenate object at 0x7fa33412a710>, <keras.layers.normalization.batch_normalization.BatchNormalization object at 0x7fa33412aa90>, <keras.layers.core.Activation object at 0x7fa334123fd0>, <keras.layers.convolutional.Conv2D object at 0x7fa334131110>, <keras.layers.normalization.batch_normalization.BatchNormalization object at 0x7fa334131710>, <keras.layers.core.Activation object at 0x7fa33412afd0>, <keras.layers.convolutional.Conv2D object at 0x7fa3a36b10d0>, <keras.layers.merge.Concatenate object at 0x7fa3a36a62d0>, <keras.layers.normalization.batch_normalization.BatchNormalization object at 0x7fa3a36af790>, <keras.layers.core.Activation object at 0x7fa3347c0810>, <keras.layers.convolutional.Conv2D object at 0x7fa33439a210>, <keras.layers.normalization.batch_normalization.BatchNormalization object at 0x7fa3344ff8d0>, <keras.layers.core.Activation object at 0x7fa33465e390>, <keras.layers.convolutional.Conv2D object at 0x7fa3343b1890>, <keras.layers.merge.Concatenate object at 0x7fa3346f8550>, <keras.layers.normalization.batch_normalization.BatchNormalization object at 0x7fa334465e10>, <keras.layers.core.Activation object at 0x7fa334373110>, <keras.layers.convolutional.Conv2D object at 0x7fa334470790>, <keras.layers.normalization.batch_normalization.BatchNormalization object at 0x7fa33447c650>, <keras.layers.core.Activation object at 0x7fa33472d5d0>, <keras.layers.convolutional.Conv2D object at 0x7fa33472d9d0>, <keras.layers.merge.Concatenate object at 0x7fa3344c2ad0>, <keras.layers.normalization.batch_normalization.BatchNormalization object at 0x7fa3347452d0>, <keras.layers.core.Activation object at 0x7fa33473e490>, <keras.layers.convolutional.Conv2D object at 0x7fa334606650>, <keras.layers.normalization.batch_normalization.BatchNormalization object at 0x7fa334606c50>, <keras.layers.core.Activation object at 0x7fa334411390>, <keras.layers.convolutional.Conv2D object at 0x7fa334449190>, <keras.layers.merge.Concatenate object at 0x7fa3341ee610>, <keras.layers.normalization.batch_normalization.BatchNormalization object at 0x7fa3341ee0d0>, <keras.layers.core.Activation object at 0x7fa3341e3e90>, <keras.layers.convolutional.Conv2D object at 0x7fa3341e3d50>, <keras.layers.normalization.batch_normalization.BatchNormalization object at 0x7fa3345ef3d0>, <keras.layers.core.Activation object at 0x7fa33451ef50>, <keras.layers.convolutional.Conv2D object at 0x7fa334547e90>, <keras.layers.merge.Concatenate object at 0x7fa3a36adfd0>, <keras.layers.normalization.batch_normalization.BatchNormalization object at 0x7fa334675e90>, <keras.layers.core.Activation object at 0x7fa334548e50>, <keras.layers.convolutional.Conv2D object at 0x7fa3a36b8e10>, <keras.layers.normalization.batch_normalization.BatchNormalization object at 0x7fa39aedcc10>, <keras.layers.core.Activation object at 0x7fa39aedc2d0>, <keras.layers.convolutional.Conv2D object at 0x7fa39aedc590>, <keras.layers.merge.Concatenate object at 0x7fa334675a90>, <keras.layers.normalization.batch_normalization.BatchNormalization object at 0x7fa3a01c0090>, <keras.layers.core.Activation object at 0x7fa3a01c0310>, <keras.layers.convolutional.Conv2D object at 0x7fa3a01c0e50>, <keras.layers.normalization.batch_normalization.BatchNormalization object at 0x7fa3a2b9f6d0>, <keras.layers.core.Activation object at 0x7fa3a2b9f650>, <keras.layers.convolutional.Conv2D object at 0x7fa3a2b9f150>, <keras.layers.merge.Concatenate object at 0x7fa39aedc3d0>, <keras.layers.normalization.batch_normalization.BatchNormalization object at 0x7fa3a35d1950>, <keras.layers.core.Activation object at 0x7fa3a35d1150>, <keras.layers.convolutional.Conv2D object at 0x7fa3a35d11d0>, <keras.layers.normalization.batch_normalization.BatchNormalization object at 0x7fa3a371ca90>, <keras.layers.core.Activation object at 0x7fa3a2b9fad0>, <keras.layers.convolutional.Conv2D object at 0x7fa3a2bb68d0>, <keras.layers.merge.Concatenate object at 0x7fa3a2bb6350>, <keras.layers.normalization.batch_normalization.BatchNormalization object at 0x7fa3a2bb6790>, <keras.layers.core.Activation object at 0x7fa3a371cad0>, <keras.layers.convolutional.Conv2D object at 0x7fa33422f610>, <keras.layers.normalization.batch_normalization.BatchNormalization object at 0x7fa33422fad0>, <keras.layers.core.Activation object at 0x7fa33422f990>, <keras.layers.convolutional.Conv2D object at 0x7fa39ae7ead0>, <keras.layers.merge.Concatenate object at 0x7fa39ae7ea50>, <keras.layers.normalization.batch_normalization.BatchNormalization object at 0x7fa39ae7ec50>, <keras.layers.core.Activation object at 0x7fa3a2c00d50>, <keras.layers.convolutional.Conv2D object at 0x7fa3a2c00710>, <keras.layers.normalization.batch_normalization.BatchNormalization object at 0x7fa3a5bdfa10>, <keras.layers.core.Activation object at 0x7fa3a65b2490>, <keras.layers.convolutional.Conv2D object at 0x7fa3a0164550>, <keras.layers.merge.Concatenate object at 0x7fa3a01644d0>, <keras.layers.normalization.batch_normalization.BatchNormalization object at 0x7fa3a0164390>, <keras.layers.core.Activation object at 0x7fa3a6da9e10>, <keras.layers.convolutional.Conv2D object at 0x7fa3a36c3350>, <keras.layers.normalization.batch_normalization.BatchNormalization object at 0x7fa3a36c3550>, <keras.layers.core.Activation object at 0x7fa3a00fa490>, <keras.layers.convolutional.Conv2D object at 0x7fa3a00fa810>, <keras.layers.merge.Concatenate object at 0x7fa3a00fa550>, <keras.layers.normalization.batch_normalization.BatchNormalization object at 0x7fa3a00fa050>, <keras.layers.core.Activation object at 0x7fa39ae0c550>, <keras.layers.convolutional.Conv2D object at 0x7fa39ae0ce10>, <keras.layers.normalization.batch_normalization.BatchNormalization object at 0x7fa3bdf11d50>, <keras.layers.core.Activation object at 0x7fa3b242c550>, <keras.layers.convolutional.Conv2D object at 0x7fa39af65dd0>, <keras.layers.merge.Concatenate object at 0x7fa39af65cd0>, <keras.layers.normalization.batch_normalization.BatchNormalization object at 0x7fa39af65a50>, <keras.layers.core.Activation object at 0x7fa3a35bf810>, <keras.layers.convolutional.Conv2D object at 0x7fa3a35bf090>, <keras.layers.normalization.batch_normalization.BatchNormalization object at 0x7fa3a3fa2490>, <keras.layers.core.Activation object at 0x7fa39ae0c210>, <keras.layers.convolutional.Conv2D object at 0x7fa3a2bd0ad0>, <keras.layers.merge.Concatenate object at 0x7fa3a2bd0a90>, <keras.layers.normalization.batch_normalization.BatchNormalization object at 0x7fa3a2bd08d0>, <keras.layers.core.Activation object at 0x7fa39af77dd0>, <keras.layers.convolutional.Conv2D object at 0x7fa39af77bd0>, <keras.layers.normalization.batch_normalization.BatchNormalization object at 0x7fa3a35bfa90>, <keras.layers.core.Activation object at 0x7fa39ae961d0>, <keras.layers.convolutional.Conv2D object at 0x7fa39ae96cd0>, <keras.layers.merge.Concatenate object at 0x7fa39af77b50>, <keras.layers.normalization.batch_normalization.BatchNormalization object at 0x7fa39ae51d50>, <keras.layers.core.Activation object at 0x7fa39ae51e90>, <keras.layers.convolutional.Conv2D object at 0x7fa39ae51fd0>, <keras.layers.normalization.batch_normalization.BatchNormalization object at 0x7fa3a37e9690>, <keras.layers.core.Activation object at 0x7fa43ac98f10>, <keras.layers.convolutional.Conv2D object at 0x7fa3a3456dd0>, <keras.layers.merge.Concatenate object at 0x7fa3a38b0250>, <keras.layers.normalization.batch_normalization.BatchNormalization object at 0x7fa33592d990>, <keras.layers.core.Activation object at 0x7fa33592d050>, <keras.layers.convolutional.Conv2D object at 0x7fa33592d3d0>, <keras.layers.normalization.batch_normalization.BatchNormalization object at 0x7fa3a3825090>, <keras.layers.core.Activation object at 0x7fa33593da10>, <keras.layers.convolutional.Conv2D object at 0x7fa33593d450>, <keras.layers.merge.Concatenate object at 0x7fa33593dfd0>, <keras.layers.normalization.batch_normalization.BatchNormalization object at 0x7fa33592d090>, <keras.layers.core.Activation object at 0x7fa335a8ac50>, <keras.layers.convolutional.Conv2D object at 0x7fa335a8a350>, <keras.layers.pooling.AveragePooling2D object at 0x7fa335a8a410>, <keras.layers.normalization.batch_normalization.BatchNormalization object at 0x7fa335918910>, <keras.layers.core.Activation object at 0x7fa335918490>, <keras.layers.convolutional.Conv2D object at 0x7fa335918e50>, <keras.layers.normalization.batch_normalization.BatchNormalization object at 0x7fa3980db910>, <keras.layers.core.Activation object at 0x7fa3980dba50>, <keras.layers.convolutional.Conv2D object at 0x7fa3980db0d0>, <keras.layers.merge.Concatenate object at 0x7fa335c778d0>, <keras.layers.normalization.batch_normalization.BatchNormalization object at 0x7fa335c77510>, <keras.layers.core.Activation object at 0x7fa335c77e10>, <keras.layers.convolutional.Conv2D object at 0x7fa335c77810>, <keras.layers.normalization.batch_normalization.BatchNormalization object at 0x7fa335c73ed0>, <keras.layers.core.Activation object at 0x7fa335c73bd0>, <keras.layers.convolutional.Conv2D object at 0x7fa335c73dd0>, <keras.layers.merge.Concatenate object at 0x7fa3359236d0>, <keras.layers.normalization.batch_normalization.BatchNormalization object at 0x7fa3359233d0>, <keras.layers.core.Activation object at 0x7fa335923490>, <keras.layers.convolutional.Conv2D object at 0x7fa3359234d0>, <keras.layers.normalization.batch_normalization.BatchNormalization object at 0x7fa33599a050>, <keras.layers.core.Activation object at 0x7fa33599ab90>, <keras.layers.convolutional.Conv2D object at 0x7fa33599a450>, <keras.layers.merge.Concatenate object at 0x7fa3a01270d0>, <keras.layers.normalization.batch_normalization.BatchNormalization object at 0x7fa3a0127290>, <keras.layers.core.Activation object at 0x7fa33593df10>, <keras.layers.convolutional.Conv2D object at 0x7fa3a0127d50>, <keras.layers.normalization.batch_normalization.BatchNormalization object at 0x7fa335844690>, <keras.layers.core.Activation object at 0x7fa3358447d0>, <keras.layers.convolutional.Conv2D object at 0x7fa335844410>, <keras.layers.merge.Concatenate object at 0x7fa398024790>, <keras.layers.normalization.batch_normalization.BatchNormalization object at 0x7fa3980248d0>, <keras.layers.core.Activation object at 0x7fa398024450>, <keras.layers.convolutional.Conv2D object at 0x7fa398024650>, <keras.layers.normalization.batch_normalization.BatchNormalization object at 0x7fa3a2be7590>, <keras.layers.core.Activation object at 0x7fa3a2be75d0>, <keras.layers.convolutional.Conv2D object at 0x7fa3a2be7d90>, <keras.layers.merge.Concatenate object at 0x7fa39ae5b6d0>, <keras.layers.normalization.batch_normalization.BatchNormalization object at 0x7fa39ae5bf90>, <keras.layers.core.Activation object at 0x7fa39ae5ba50>, <keras.layers.convolutional.Conv2D object at 0x7fa39ae5be50>, <keras.layers.normalization.batch_normalization.BatchNormalization object at 0x7fa3a2bc2490>, <keras.layers.core.Activation object at 0x7fa3a2bc20d0>, <keras.layers.convolutional.Conv2D object at 0x7fa3a2bc2650>, <keras.layers.merge.Concatenate object at 0x7fa3342ebb50>, <keras.layers.normalization.batch_normalization.BatchNormalization object at 0x7fa3342eb690>, <keras.layers.core.Activation object at 0x7fa3342eba50>, <keras.layers.convolutional.Conv2D object at 0x7fa3342ebdd0>, <keras.layers.normalization.batch_normalization.BatchNormalization object at 0x7fa3342e8ad0>, <keras.layers.core.Activation object at 0x7fa3342e8550>, <keras.layers.convolutional.Conv2D object at 0x7fa3342e8710>, <keras.layers.merge.Concatenate object at 0x7fa3a35b0890>, <keras.layers.normalization.batch_normalization.BatchNormalization object at 0x7fa3a35b0d90>, <keras.layers.core.Activation object at 0x7fa3a35b06d0>, <keras.layers.convolutional.Conv2D object at 0x7fa334603590>, <keras.layers.normalization.batch_normalization.BatchNormalization object at 0x7fa334603f10>, <keras.layers.core.Activation object at 0x7fa334603490>, <keras.layers.convolutional.Conv2D object at 0x7fa334603b90>, <keras.layers.merge.Concatenate object at 0x7fa3342f3610>, <keras.layers.normalization.batch_normalization.BatchNormalization object at 0x7fa3342f3910>, <keras.layers.core.Activation object at 0x7fa3342f37d0>, <keras.layers.convolutional.Conv2D object at 0x7fa3342f3ad0>, <keras.layers.normalization.batch_normalization.BatchNormalization object at 0x7fa334346c50>, <keras.layers.core.Activation object at 0x7fa334346810>, <keras.layers.convolutional.Conv2D object at 0x7fa3343464d0>, <keras.layers.merge.Concatenate object at 0x7fa3345cd510>, <keras.layers.normalization.batch_normalization.BatchNormalization object at 0x7fa3345cd810>, <keras.layers.core.Activation object at 0x7fa3345cd950>, <keras.layers.convolutional.Conv2D object at 0x7fa39aedcc90>, <keras.layers.normalization.batch_normalization.BatchNormalization object at 0x7fa39af27cd0>, <keras.layers.core.Activation object at 0x7fa39af27ed0>, <keras.layers.convolutional.Conv2D object at 0x7fa39af27c10>, <keras.layers.merge.Concatenate object at 0x7fa334229e50>, <keras.layers.normalization.batch_normalization.BatchNormalization object at 0x7fa3342298d0>, <keras.layers.core.Activation object at 0x7fa334229a90>, <keras.layers.convolutional.Conv2D object at 0x7fa39af1fad0>, <keras.layers.normalization.batch_normalization.BatchNormalization object at 0x7fa39af1fa10>, <keras.layers.core.Activation object at 0x7fa39af1f350>, <keras.layers.convolutional.Conv2D object at 0x7fa39af1f090>, <keras.layers.merge.Concatenate object at 0x7fa39af0ead0>, <keras.layers.normalization.batch_normalization.BatchNormalization object at 0x7fa39af0e4d0>, <keras.layers.core.Activation object at 0x7fa3345cdad0>, <keras.layers.convolutional.Conv2D object at 0x7fa335c57e90>, <keras.layers.normalization.batch_normalization.BatchNormalization object at 0x7fa335c57d10>, <keras.layers.core.Activation object at 0x7fa39af0ed10>, <keras.layers.convolutional.Conv2D object at 0x7fa39ade54d0>, <keras.layers.merge.Concatenate object at 0x7fa39ade5050>, <keras.layers.normalization.batch_normalization.BatchNormalization object at 0x7fa39ade5350>, <keras.layers.core.Activation object at 0x7fa335c57610>, <keras.layers.convolutional.Conv2D object at 0x7fa39ade2290>, <keras.layers.normalization.batch_normalization.BatchNormalization object at 0x7fa39ade2a10>, <keras.layers.core.Activation object at 0x7fa39ade5b10>, <keras.layers.convolutional.Conv2D object at 0x7fa335a47610>, <keras.layers.merge.Concatenate object at 0x7fa335a47790>, <keras.layers.normalization.batch_normalization.BatchNormalization object at 0x7fa335a47390>, <keras.layers.core.Activation object at 0x7fa39ade2ed0>, <keras.layers.convolutional.Conv2D object at 0x7fa39af639d0>, <keras.layers.normalization.batch_normalization.BatchNormalization object at 0x7fa39af63bd0>, <keras.layers.core.Activation object at 0x7fa39af63f10>, <keras.layers.convolutional.Conv2D object at 0x7fa335c59050>, <keras.layers.merge.Concatenate object at 0x7fa335c59310>, <keras.layers.normalization.batch_normalization.BatchNormalization object at 0x7fa335c59c50>, <keras.layers.core.Activation object at 0x7fa3a3df9fd0>, <keras.layers.convolutional.Conv2D object at 0x7fa3a0093410>, <keras.layers.normalization.batch_normalization.BatchNormalization object at 0x7fa3a0093590>, <keras.layers.core.Activation object at 0x7fa3a0093750>, <keras.layers.convolutional.Conv2D object at 0x7fa39addfdd0>, <keras.layers.merge.Concatenate object at 0x7fa39addf090>, <keras.layers.normalization.batch_normalization.BatchNormalization object at 0x7fa39addff10>, <keras.layers.core.Activation object at 0x7fa335c59cd0>, <keras.layers.convolutional.Conv2D object at 0x7fa39ae6a490>, <keras.layers.normalization.batch_normalization.BatchNormalization object at 0x7fa39ae6a550>, <keras.layers.core.Activation object at 0x7fa39addf9d0>, <keras.layers.convolutional.Conv2D object at 0x7fa3a0099b50>, <keras.layers.merge.Concatenate object at 0x7fa3a0099190>, <keras.layers.normalization.batch_normalization.BatchNormalization object at 0x7fa3a0099510>, <keras.layers.core.Activation object at 0x7fa39ae6a250>, <keras.layers.pooling.GlobalAveragePooling2D object at 0x7fa335977810>]"
     ]
    }
   ],
   "source": [
    "def load_chexnet(output_dim, mode=0):\n",
    "    \"\"\"\n",
    "    output_dim: dimension of output (either for prediction or embedding dim)\n",
    "    mode: prediction (0), nearest neighbours (1)\n",
    "    \"\"\"\n",
    "    \n",
    "    base_model_old = tf.keras.models.load_model('chexnet.h5')\n",
    "    base_model = base_model_old.layers[:-1] ## remove old prediction layer\n",
    "    \n",
    "    ## The prediction/embedding head can be more complicated if you want\n",
    "    if mode == 0: ## prediction\n",
    "        chexnet = tf.keras.Sequential([base_model,\n",
    "                                      tf.keras.layers.Dense(output_dim, activation='softmax'),\n",
    "                                      ])\n",
    "    else: ## nearest neighbours -- get embedding\n",
    "        chexnet = tf.keras.Sequential([base_mode,\n",
    "                                      tf.keras.layers.Dense(output_dim),\n",
    "                                      ])\n",
    "    \n",
    "    return chexnet\n",
    "\n",
    "chexnet = load_chexnet(20)\n",
    "print(chexnet.summary())"
   ]
  }
 ],
 "metadata": {
  "kernelspec": {
   "display_name": "Python 3",
   "language": "python",
   "name": "python3"
  },
  "language_info": {
   "codemirror_mode": {
    "name": "ipython",
    "version": 3
   },
   "file_extension": ".py",
   "mimetype": "text/x-python",
   "name": "python",
   "nbconvert_exporter": "python",
   "pygments_lexer": "ipython3",
   "version": "3.7.10"
  }
 },
 "nbformat": 4,
 "nbformat_minor": 5
}
