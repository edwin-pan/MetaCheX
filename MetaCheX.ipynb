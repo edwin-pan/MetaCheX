{
 "cells": [
  {
   "cell_type": "markdown",
   "id": "062cf5ef",
   "metadata": {},
   "source": [
    "# MetaCheX"
   ]
  },
  {
   "cell_type": "markdown",
   "id": "31216ee6",
   "metadata": {},
   "source": [
    "## Step 1: Data Pre-processing"
   ]
  },
  {
   "cell_type": "code",
   "execution_count": 180,
   "id": "3640ee59",
   "metadata": {},
   "outputs": [],
   "source": [
    "import pandas as pd\n",
    "import numpy as np\n",
    "import matplotlib.pyplot as plt\n",
    "import random\n",
    "import os\n",
    "import cv2\n",
    "from tensorflow.keras.preprocessing.image import ImageDataGenerator, array_to_img, img_to_array, load_img\n",
    "import tensorflow as tf\n",
    "from glob import glob\n",
    "from pathlib import Path\n",
    "from sklearn.metrics import roc_curve\n",
    "\n",
    "PATH_TO_DATA_FOLDER = './data'\n",
    "NIH_IMAGES = 'nih/images'\n",
    "NIH_METADATA_PATH = 'nih/Data_Entry_2017.csv'\n",
    "COVID_19_RADIOGRAPHY_IMAGES = 'COVID-19_Radiography_Dataset/images' ## note labels are in the filenames\n",
    "COVID_CHESTXRAY_IMAGES = 'covid-chestxray-dataset/images'\n",
    "COVID_CHESTXRAY_METADATA_PATH = 'covid-chestxray-dataset/metadata.csv'\n",
    "\n",
    "# SIIM_IMAGE_LABELS = 'siim-covid19-detection/train_image_level.csv'\n",
    "# SIIM_STUDY_LABELS = 'siim-covid19-detection/train_study_level.csv' ## ???"
   ]
  },
  {
   "cell_type": "markdown",
   "id": "92d96e46",
   "metadata": {},
   "source": [
    "If labels.csv exists, read from it.\n",
    "\n",
    "Otherwise, extract filenames and labels for:\n",
    "- ChestX-ray14 (NIH) dataset\n",
    "- COVID-19 Radiography Dataset\n",
    "- covid-chestxray-dataset\n",
    "\n",
    "and put in labels.csv"
   ]
  },
  {
   "cell_type": "code",
   "execution_count": 184,
   "id": "e21f4c11",
   "metadata": {},
   "outputs": [
    {
     "name": "stdout",
     "output_type": "stream",
     "text": [
      "                   id                                              label\n",
      "0  000a312787f2_image  opacity 1 789.28836 582.43035 1815.94498 2499....\n",
      "1  000c3a3f293f_image                                     none 1 0 0 1 1\n",
      "2  0012ff7358bc_image  opacity 1 677.42216 197.97662 1545.21983 1197....\n",
      "3  001398f4ff4f_image    opacity 1 2729 2181.33331 3677.00012 2785.33331\n",
      "4  001bd15d1891_image  opacity 1 623.23328 1050 1337.23328 2156 opaci...\n",
      "5  0022227f5adf_image  opacity 1 1857.2065 508.30565 2233.23384 907.8...\n",
      "6  0023f02ae886_image                                     none 1 0 0 1 1\n",
      "7  002e9b2128d0_image  opacity 1 276.72917 627.42968 1187.31776 2283....\n",
      "8  00326161e51e_image  opacity 1 542.96057 364.37257 1133.32317999999...\n",
      "9  0044e449aae1_image  opacity 1 1703.78756 938.29333 2614.8275599999...\n"
     ]
    }
   ],
   "source": [
    "## For the SIIM dataset -- just to show that the labelling doesn't make sense (actual siim data not added to repo)\n",
    "labels_path = os.path.join(PATH_TO_DATA_FOLDER, SIIM_IMAGE_LABELS)\n",
    "df = pd.read_csv(labels_path)[['id', 'label']]\n",
    "print(df.head(10))"
   ]
  },
  {
   "cell_type": "code",
   "execution_count": 170,
   "id": "901c76b7",
   "metadata": {},
   "outputs": [],
   "source": [
    "labels_path = os.path.join(PATH_TO_DATA_FOLDER, 'labels.csv')\n",
    "if os.path.isfile(labels_path): ## path exists\n",
    "    df = pd.read_csv(labels_path)\n",
    "else:\n",
    "    df = pd.DataFrame(columns=['image_path', 'label'])\n",
    "\n",
    "    ## NIH\n",
    "    full_path = os.path.join(PATH_TO_DATA_FOLDER, NIH_METADATA_PATH)\n",
    "    df_nih = pd.read_csv(full_path)[['Image Index', 'Finding Labels']]\n",
    "    df_nih.rename(columns={'Image Index': 'image_path', 'Finding Labels': 'label'}, inplace=True)\n",
    "    df_nih['label'] = df_nih['label'].str.split('|')\n",
    "    df_nih['image_path'] = PATH_TO_DATA_FOLDER + '/' + NIH_IMAGES + '/' + df_nih['image_path']\n",
    "    df = df.append(df_nih)\n",
    "\n",
    "    ## COVID_CHESTXRAY\n",
    "    full_path = os.path.join(PATH_TO_DATA_FOLDER, COVID_CHESTXRAY_METADATA_PATH)\n",
    "    df_cc = pd.read_csv(full_path)[['filename', 'finding']]\n",
    "    df_cc.rename(columns={'filename': 'image_path', 'finding': 'label'}, inplace=True)\n",
    "    df_cc = df_cc.drop(df_cc[(df_cc['label'] == 'todo') | (df_cc['label'] == 'Unknown')].index).reset_index(drop=True)\n",
    "    df_cc['label'] = df_cc['label'].str.split('/')\n",
    "    ## Remove the label after 'Pneumonia' that specifies type of pneumonia if given\n",
    "    for i in range(df_cc.shape[0]):\n",
    "        label = df_cc.at[i, 'label']\n",
    "        if 'Pneumonia' in label and len(label) > 1:\n",
    "            p_idx = label.index('Pneumonia')\n",
    "            label.pop(p_idx + 1)\n",
    "            #sort the labels to be in alphabetical order\n",
    "            df_cc.at[i, 'label'] = sorted(label)\n",
    "\n",
    "    df_cc['image_path'] = PATH_TO_DATA_FOLDER + '/' + COVID_CHESTXRAY_IMAGES + '/' + df_cc['image_path']\n",
    "    df = df.append(df_cc)\n",
    "\n",
    "    ## COVID-19 Radiography\n",
    "    full_path = os.path.join(PATH_TO_DATA_FOLDER, COVID_19_RADIOGRAPHY_IMAGES)\n",
    "    df_cr = pd.DataFrame(columns=['image_path', 'label'])\n",
    "    image_lst = sorted(list(glob(f\"{full_path}/*\"))) ## gets list of all image filepaths\n",
    "    label_arr = np.array([f[f.rindex('/') + 1:f.rindex('-')] for f in image_lst])\n",
    "    label_arr = np.where(label_arr == 'COVID', 'COVID-19', label_arr) ## replace COVID with COVID-19 for consistency\n",
    "    label_arr = np.where(label_arr == 'Viral Pneumonia', 'Pneumonia', label_arr)\n",
    "    label_arr = np.where(label_arr == 'Normal', 'No Finding', label_arr) ## replace 'Normal' with 'No Finding'\n",
    "    df_cr['image_path'] = image_lst\n",
    "    df_cr['label'] = label_arr\n",
    "    df_cr['label'] = df_cr['label'].str.split(pat='.') ## makes each label a list (random sep so that no split on space)\n",
    "    df = df.append(df_cr)\n",
    "\n",
    "    df = df.reset_index(drop=True)\n",
    "    df.to_csv(labels_path)"
   ]
  },
  {
   "cell_type": "markdown",
   "id": "1f54466b",
   "metadata": {},
   "source": [
    "Get stats on the data: \n",
    "- Number of images with each label (individual)\n",
    "- Number of unique labels (individual)\n",
    "- Number of labels total (including combos)"
   ]
  },
  {
   "cell_type": "code",
   "execution_count": 164,
   "id": "e9b53eaa",
   "metadata": {},
   "outputs": [
    {
     "name": "stdout",
     "output_type": "stream",
     "text": [
      "Number of total images:  164298\n",
      "Number of total individual labels:  35\n",
      "Number of total label combos (includes individual labels):  856\n",
      "****************************\n",
      "Number of images with each individual label (Top 20)\n",
      "                    count\n",
      "No Finding          70575\n",
      "Infiltration        19894\n",
      "Effusion            13317\n",
      "Atelectasis         11559\n",
      "Nodule               6331\n",
      "Lung_Opacity         6012\n",
      "Mass                 5782\n",
      "Pneumothorax         5302\n",
      "Consolidation        4667\n",
      "COVID-19             4200\n",
      "Pneumonia            3602\n",
      "Pleural_Thickening   3385\n",
      "Cardiomegaly         2776\n",
      "Emphysema            2516\n",
      "Edema                2303\n",
      "Fibrosis             1686\n",
      "Hernia                227\n",
      "Pneumocystis           30\n",
      "Streptococcus          22\n",
      "Tuberculosis           18\n",
      "\n",
      "\n",
      "Number of images with each combo label (Top 20)\n",
      "                                       count\n",
      "(No Finding,)                          70575\n",
      "(Infiltration,)                         9547\n",
      "(Lung_Opacity,)                         6012\n",
      "(Atelectasis,)                          4215\n",
      "(Effusion,)                             3955\n",
      "(COVID-19,)                             3616\n",
      "(Nodule,)                               2705\n",
      "(Pneumothorax,)                         2194\n",
      "(Mass,)                                 2139\n",
      "(Pneumonia,)                            1766\n",
      "(Effusion, Infiltration)                1603\n",
      "(Atelectasis, Infiltration)             1350\n",
      "(Consolidation,)                        1310\n",
      "(Atelectasis, Effusion)                 1165\n",
      "(Pleural_Thickening,)                   1126\n",
      "(Cardiomegaly,)                         1093\n",
      "(Emphysema,)                             892\n",
      "(Infiltration, Nodule)                   829\n",
      "(Atelectasis, Effusion, Infiltration)    737\n",
      "(Fibrosis,)                              727\n"
     ]
    }
   ],
   "source": [
    "unique_labels_dict = {} ## keys are str\n",
    "unique_combos_dict = {} ## keys are tuples of str\n",
    "for i in range(df.shape[0]):\n",
    "    label = tuple(df.at[i, 'label'])\n",
    "    for l in label:\n",
    "        if l not in unique_labels_dict:\n",
    "            unique_labels_dict[l] = 0\n",
    "        unique_labels_dict[l] += 1\n",
    "    \n",
    "    if label not in unique_combos_dict:\n",
    "        unique_combos_dict[label] = 0\n",
    "    unique_combos_dict[label] += 1\n",
    "\n",
    "df_label_nums = pd.DataFrame.from_dict(unique_labels_dict, orient='index', columns=['count']).sort_values(by=['count'], ascending=False)\n",
    "df_combo_nums = pd.DataFrame.from_dict(unique_combos_dict, orient='index', columns=['count']).sort_values(by=['count'], ascending=False)\n",
    "print(\"Number of total images: \", df_label_nums['count'].sum())\n",
    "print(\"Number of total individual labels: \", df_label_nums.shape[0])\n",
    "print(\"Number of total label combos (includes individual labels): \", df_combo_nums.shape[0])\n",
    "print(\"****************************\")\n",
    "print(\"Number of images with each individual label (Top 20)\")\n",
    "print(df_label_nums.head(20))\n",
    "print(\"\\n\")\n",
    "print(\"Number of images with each combo label (Top 20)\")\n",
    "print(df_combo_nums.head(20))\n",
    "\n"
   ]
  }
 ],
 "metadata": {
  "kernelspec": {
   "display_name": "Python 3",
   "language": "python",
   "name": "python3"
  },
  "language_info": {
   "codemirror_mode": {
    "name": "ipython",
    "version": 3
   },
   "file_extension": ".py",
   "mimetype": "text/x-python",
   "name": "python",
   "nbconvert_exporter": "python",
   "pygments_lexer": "ipython3",
   "version": "3.7.10"
  }
 },
 "nbformat": 4,
 "nbformat_minor": 5
}
